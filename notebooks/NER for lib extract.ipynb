{
 "cells": [
  {
   "cell_type": "code",
   "execution_count": 1,
   "id": "ecbbeda4",
   "metadata": {},
   "outputs": [
    {
     "data": {
      "application/vnd.jupyter.widget-view+json": {
       "model_id": "45f8414030db4b02ad637d7c34d3a98a",
       "version_major": 2,
       "version_minor": 0
      },
      "text/plain": [
       "Downloading:   0%|          | 0.00/3.18k [00:00<?, ?B/s]"
      ]
     },
     "metadata": {},
     "output_type": "display_data"
    },
    {
     "data": {
      "application/vnd.jupyter.widget-view+json": {
       "model_id": "a4ae245734b34f63bc7577c3e676094a",
       "version_major": 2,
       "version_minor": 0
      },
      "text/plain": [
       "Downloading:   0%|          | 0.00/899k [00:00<?, ?B/s]"
      ]
     },
     "metadata": {},
     "output_type": "display_data"
    },
    {
     "data": {
      "application/vnd.jupyter.widget-view+json": {
       "model_id": "832d3973ab8943eda414ec999ecf7270",
       "version_major": 2,
       "version_minor": 0
      },
      "text/plain": [
       "Downloading:   0%|          | 0.00/456k [00:00<?, ?B/s]"
      ]
     },
     "metadata": {},
     "output_type": "display_data"
    },
    {
     "data": {
      "application/vnd.jupyter.widget-view+json": {
       "model_id": "a27e89a264194681b144d36d306e7864",
       "version_major": 2,
       "version_minor": 0
      },
      "text/plain": [
       "Downloading:   0%|          | 0.00/150 [00:00<?, ?B/s]"
      ]
     },
     "metadata": {},
     "output_type": "display_data"
    },
    {
     "data": {
      "application/vnd.jupyter.widget-view+json": {
       "model_id": "c866e7a6c2914c13b55ec81ebcff749f",
       "version_major": 2,
       "version_minor": 0
      },
      "text/plain": [
       "Downloading:   0%|          | 0.00/1.18k [00:00<?, ?B/s]"
      ]
     },
     "metadata": {},
     "output_type": "display_data"
    },
    {
     "data": {
      "application/vnd.jupyter.widget-view+json": {
       "model_id": "ccd2ac24ccb3414e9a796d327e794822",
       "version_major": 2,
       "version_minor": 0
      },
      "text/plain": [
       "Downloading:   0%|          | 0.00/496M [00:00<?, ?B/s]"
      ]
     },
     "metadata": {},
     "output_type": "display_data"
    }
   ],
   "source": [
    "from transformers import AutoTokenizer, AutoModelForTokenClassification\n",
    "  \n",
    "tokenizer = AutoTokenizer.from_pretrained(\"mrm8488/codebert-base-finetuned-stackoverflow-ner\")\n",
    "\n",
    "model = AutoModelForTokenClassification.from_pretrained(\"mrm8488/codebert-base-finetuned-stackoverflow-ner\")"
   ]
  },
  {
   "cell_type": "code",
   "execution_count": 20,
   "id": "042fa0f1",
   "metadata": {},
   "outputs": [],
   "source": [
    "import numpy as np"
   ]
  },
  {
   "cell_type": "code",
   "execution_count": 4,
   "id": "fa919148",
   "metadata": {},
   "outputs": [],
   "source": [
    "from transformers import pipeline"
   ]
  },
  {
   "cell_type": "code",
   "execution_count": null,
   "id": "42b8544b",
   "metadata": {},
   "outputs": [],
   "source": [
    "example = \"\"\"import pandas as pd import seaborn as sns import matplotlib.pyplot as plt import numpy as np\"\"\"\n"
   ]
  },
  {
   "cell_type": "code",
   "execution_count": 15,
   "id": "6be7230b",
   "metadata": {},
   "outputs": [],
   "source": [
    "# Transform input tokens \n",
    "inputs = tokenizer(\"import WebKit protocol GithubWebViewProtocol: UIViewController!\", return_tensors=\"pt\")\n",
    "\n",
    "# Model apply\n",
    "outputs = model(**inputs)"
   ]
  },
  {
   "cell_type": "code",
   "execution_count": 17,
   "id": "ca9ee9d0",
   "metadata": {},
   "outputs": [],
   "source": [
    "loss = outputs.loss"
   ]
  },
  {
   "cell_type": "code",
   "execution_count": 18,
   "id": "9a2f67d0",
   "metadata": {},
   "outputs": [],
   "source": [
    "loss"
   ]
  },
  {
   "cell_type": "code",
   "execution_count": 21,
   "id": "6008180e",
   "metadata": {},
   "outputs": [
    {
     "name": "stdout",
     "output_type": "stream",
     "text": [
      "274\n"
     ]
    }
   ],
   "source": [
    "logits = outputs.logits\n",
    "\n",
    "print(np.argmax(logits.detach().numpy()))"
   ]
  },
  {
   "cell_type": "code",
   "execution_count": 49,
   "id": "e0a58eda",
   "metadata": {},
   "outputs": [],
   "source": [
    "new_doc = \"\"\"\n",
    "import WebKit\n",
    "\n",
    "protocol GithubWebViewProtocol: UIViewController {\n",
    "    func close()\n",
    "    func loadWebView(with: URLRequest)\n",
    "}\n",
    "\n",
    "final class GithubWebView: UIViewController, WKNavigationDelegate, GithubWebViewProtocol {\n",
    "\n",
    "    // MARK: - Components & vars\n",
    "\n",
    "    var presenter: GithubWebPresenterProtocol?\n",
    "\n",
    "    lazy var webView: WKWebView = {\n",
    "        let webView = WKWebView()\n",
    "        webView.navigationDelegate = self\n",
    "        return webView\n",
    "    }()\n",
    "\n",
    "    // MARK: - Lifecycle\n",
    "\n",
    "    override func loadView() {\n",
    "        view = webView\n",
    "    }\n",
    "\n",
    "    override func viewDidLoad() {\n",
    "        super.viewDidLoad()\n",
    "        presenter?.viewLoaded()\n",
    "    }\n",
    "\n",
    "    // MARK: - GithubWebViewProtocol\n",
    "\n",
    "    func close() {\n",
    "        dismiss(animated: true, completion: nil)\n",
    "    }\n",
    "\n",
    "    func loadWebView(with request: URLRequest) {\n",
    "        webView.load(request)\n",
    "    }\n",
    "\n",
    "    // MARK: - WKNavigationDelegate\n",
    "\n",
    "    func webView(\n",
    "        _: WKWebView,\n",
    "        decidePolicyFor navigationAction: WKNavigationAction,\n",
    "        decisionHandler: @escaping (WKNavigationActionPolicy) -> Void)\n",
    "    {\n",
    "        presenter?.requestForCallbackURL(request: navigationAction.request)\n",
    "        decisionHandler(.allow)\n",
    "    }\n",
    "}\n",
    "\"\"\""
   ]
  },
  {
   "cell_type": "code",
   "execution_count": 54,
   "id": "50cd85e9",
   "metadata": {},
   "outputs": [],
   "source": [
    "nlp = pipeline(\"ner\", model=model, tokenizer=tokenizer, grouped_entities=True)\n",
    "example = \"\"\"import pandas as pd\n",
    "import seaborn as sns\n",
    "import matplotlib.pyplot as plt\n",
    "import numpy as np\"\"\"\n",
    "ner_results = nlp(new_doc)"
   ]
  },
  {
   "cell_type": "code",
   "execution_count": 55,
   "id": "cd467eb0",
   "metadata": {},
   "outputs": [
    {
     "name": "stdout",
     "output_type": "stream",
     "text": [
      " webkit\n"
     ]
    }
   ],
   "source": [
    "for ner in ner_results:\n",
    "    if ner['entity_group'] == 'Library' and len(ner['word'])>4:\n",
    "        print(ner['word'])"
   ]
  },
  {
   "cell_type": "code",
   "execution_count": null,
   "id": "078c643e",
   "metadata": {},
   "outputs": [],
   "source": []
  }
 ],
 "metadata": {
  "kernelspec": {
   "display_name": "Python 3",
   "language": "python",
   "name": "python3"
  },
  "language_info": {
   "codemirror_mode": {
    "name": "ipython",
    "version": 3
   },
   "file_extension": ".py",
   "mimetype": "text/x-python",
   "name": "python",
   "nbconvert_exporter": "python",
   "pygments_lexer": "ipython3",
   "version": "3.7.10"
  }
 },
 "nbformat": 4,
 "nbformat_minor": 5
}
