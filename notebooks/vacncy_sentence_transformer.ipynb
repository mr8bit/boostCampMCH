{
 "cells": [
  {
   "cell_type": "code",
   "execution_count": 36,
   "id": "45fb9b5e",
   "metadata": {},
   "outputs": [],
   "source": [
    "from sentence_transformers import SentenceTransformer\n",
    "import pickle\n",
    "import pandas as pd\n",
    "import glob\n",
    "import numpy as np"
   ]
  },
  {
   "cell_type": "code",
   "execution_count": 37,
   "id": "98267c33",
   "metadata": {},
   "outputs": [],
   "source": [
    "data_hh_list = glob.glob(\"./hh_data/*.csv\")\n",
    "df_bd = pd.DataFrame(columns=['Ids', 'Employer', 'Name', 'Salary', 'From', 'To', 'Experience',\n",
    "       'Schedule', 'Keys', 'Description'])\n",
    "for csv in data_hh_list:\n",
    "    df_bd = df_bd.append(pd.read_csv(csv))\n",
    "df_bd = df_bd.reset_index(drop=True)"
   ]
  },
  {
   "cell_type": "code",
   "execution_count": 52,
   "id": "1d0da486",
   "metadata": {
    "scrolled": true
   },
   "outputs": [
    {
     "data": {
      "text/html": [
       "<div>\n",
       "<style scoped>\n",
       "    .dataframe tbody tr th:only-of-type {\n",
       "        vertical-align: middle;\n",
       "    }\n",
       "\n",
       "    .dataframe tbody tr th {\n",
       "        vertical-align: top;\n",
       "    }\n",
       "\n",
       "    .dataframe thead th {\n",
       "        text-align: right;\n",
       "    }\n",
       "</style>\n",
       "<table border=\"1\" class=\"dataframe\">\n",
       "  <thead>\n",
       "    <tr style=\"text-align: right;\">\n",
       "      <th></th>\n",
       "      <th>Ids</th>\n",
       "      <th>Employer</th>\n",
       "      <th>Name</th>\n",
       "      <th>Salary</th>\n",
       "      <th>From</th>\n",
       "      <th>To</th>\n",
       "      <th>Experience</th>\n",
       "      <th>Schedule</th>\n",
       "      <th>Keys</th>\n",
       "      <th>Description</th>\n",
       "    </tr>\n",
       "  </thead>\n",
       "  <tbody>\n",
       "    <tr>\n",
       "      <th>0</th>\n",
       "      <td>44091038</td>\n",
       "      <td>ДВ технологии</td>\n",
       "      <td>Junior Full Stack Developer (Младший разработчик)</td>\n",
       "      <td>False</td>\n",
       "      <td>NaN</td>\n",
       "      <td>NaN</td>\n",
       "      <td>От 1 года до 3 лет</td>\n",
       "      <td>Полный день</td>\n",
       "      <td>[]</td>\n",
       "      <td>Команда, занимающаяся сопровождением деятельно...</td>\n",
       "    </tr>\n",
       "    <tr>\n",
       "      <th>1</th>\n",
       "      <td>45117575</td>\n",
       "      <td>МФТИ ГУ</td>\n",
       "      <td>Junior+/Middle Python Backend Разработчик</td>\n",
       "      <td>True</td>\n",
       "      <td>80000.0</td>\n",
       "      <td>140000.0</td>\n",
       "      <td>От 1 года до 3 лет</td>\n",
       "      <td>Удаленная работа</td>\n",
       "      <td>['Python', 'Django Framework', 'PostgreSQL', '...</td>\n",
       "      <td>О компании Присоединяйтесь к нашей команде Dee...</td>\n",
       "    </tr>\n",
       "    <tr>\n",
       "      <th>2</th>\n",
       "      <td>43825932</td>\n",
       "      <td>Институт прикладных экономических исследований...</td>\n",
       "      <td>Junior Data Scientist</td>\n",
       "      <td>True</td>\n",
       "      <td>104400.0</td>\n",
       "      <td>NaN</td>\n",
       "      <td>От 1 года до 3 лет</td>\n",
       "      <td>Полный день</td>\n",
       "      <td>['PyTorch', 'TensorFlow', 'Scikit-learn', 'xgb...</td>\n",
       "      <td>Лаборатории анализа данных и отраслевой динами...</td>\n",
       "    </tr>\n",
       "    <tr>\n",
       "      <th>3</th>\n",
       "      <td>44649538</td>\n",
       "      <td>Сбербанк</td>\n",
       "      <td>Junior Risk Quant (Quantitative Analyst)</td>\n",
       "      <td>False</td>\n",
       "      <td>NaN</td>\n",
       "      <td>NaN</td>\n",
       "      <td>От 1 года до 3 лет</td>\n",
       "      <td>Полный день</td>\n",
       "      <td>[]</td>\n",
       "      <td>В Центре рыночного и портфельного моделировани...</td>\n",
       "    </tr>\n",
       "    <tr>\n",
       "      <th>4</th>\n",
       "      <td>44594874</td>\n",
       "      <td>КСОР</td>\n",
       "      <td>Junior разработчик Computer Vision со знанием ...</td>\n",
       "      <td>False</td>\n",
       "      <td>NaN</td>\n",
       "      <td>NaN</td>\n",
       "      <td>От 1 года до 3 лет</td>\n",
       "      <td>Полный день</td>\n",
       "      <td>['Python', 'C++', 'Деловая коммуникация', 'Lin...</td>\n",
       "      <td>Привет! Мы продуктовая компания, развивающая с...</td>\n",
       "    </tr>\n",
       "    <tr>\n",
       "      <th>...</th>\n",
       "      <td>...</td>\n",
       "      <td>...</td>\n",
       "      <td>...</td>\n",
       "      <td>...</td>\n",
       "      <td>...</td>\n",
       "      <td>...</td>\n",
       "      <td>...</td>\n",
       "      <td>...</td>\n",
       "      <td>...</td>\n",
       "      <td>...</td>\n",
       "    </tr>\n",
       "    <tr>\n",
       "      <th>670</th>\n",
       "      <td>40201445</td>\n",
       "      <td>АРМО, ГК</td>\n",
       "      <td>Junior программист JavaScript</td>\n",
       "      <td>True</td>\n",
       "      <td>55000.0</td>\n",
       "      <td>70000.0</td>\n",
       "      <td>Нет опыта</td>\n",
       "      <td>Гибкий график</td>\n",
       "      <td>['JavaScript', 'Node.js']</td>\n",
       "      <td>Мы расширяем команду разработки системы видеон...</td>\n",
       "    </tr>\n",
       "    <tr>\n",
       "      <th>671</th>\n",
       "      <td>44552856</td>\n",
       "      <td>SberCloud</td>\n",
       "      <td>Junior Архитектор (Облачная Платформа)</td>\n",
       "      <td>False</td>\n",
       "      <td>NaN</td>\n",
       "      <td>NaN</td>\n",
       "      <td>От 1 года до 3 лет</td>\n",
       "      <td>Полный день</td>\n",
       "      <td>['UML', 'Системная интеграция', 'Системный ана...</td>\n",
       "      <td>Обязанности:  Основная задача - участие в прое...</td>\n",
       "    </tr>\n",
       "    <tr>\n",
       "      <th>672</th>\n",
       "      <td>45257091</td>\n",
       "      <td>МЕРК</td>\n",
       "      <td>Junior Java разработчик</td>\n",
       "      <td>True</td>\n",
       "      <td>80000.0</td>\n",
       "      <td>120000.0</td>\n",
       "      <td>От 1 года до 3 лет</td>\n",
       "      <td>Удаленная работа</td>\n",
       "      <td>['PostgreSQL', 'Java', 'Hibernate ORM', 'ООП',...</td>\n",
       "      <td>О компании: Компания-разработчик финтех ПО ище...</td>\n",
       "    </tr>\n",
       "    <tr>\n",
       "      <th>673</th>\n",
       "      <td>45270468</td>\n",
       "      <td>CUSTIS</td>\n",
       "      <td>Junior C#/.NET разработчик</td>\n",
       "      <td>False</td>\n",
       "      <td>NaN</td>\n",
       "      <td>NaN</td>\n",
       "      <td>От 1 года до 3 лет</td>\n",
       "      <td>Полный день</td>\n",
       "      <td>['ООП', 'SQL', 'PostgreSQL', 'Git', '.NET Core...</td>\n",
       "      <td>Компания CUSTIS специализируется на проектиров...</td>\n",
       "    </tr>\n",
       "    <tr>\n",
       "      <th>674</th>\n",
       "      <td>45124699</td>\n",
       "      <td>Интроверт</td>\n",
       "      <td>Программист PHP (Junior)</td>\n",
       "      <td>True</td>\n",
       "      <td>20000.0</td>\n",
       "      <td>40000.0</td>\n",
       "      <td>Нет опыта</td>\n",
       "      <td>Удаленная работа</td>\n",
       "      <td>['CSS', 'PHP', 'HTML', 'jQuery', 'JavaScript',...</td>\n",
       "      <td>Интроверт ЦРМ Системы — интегратор, специализи...</td>\n",
       "    </tr>\n",
       "  </tbody>\n",
       "</table>\n",
       "<p>675 rows × 10 columns</p>\n",
       "</div>"
      ],
      "text/plain": [
       "          Ids                                           Employer  \\\n",
       "0    44091038                                      ДВ технологии   \n",
       "1    45117575                                            МФТИ ГУ   \n",
       "2    43825932  Институт прикладных экономических исследований...   \n",
       "3    44649538                                           Сбербанк   \n",
       "4    44594874                                               КСОР   \n",
       "..        ...                                                ...   \n",
       "670  40201445                                           АРМО, ГК   \n",
       "671  44552856                                          SberCloud   \n",
       "672  45257091                                               МЕРК   \n",
       "673  45270468                                             CUSTIS   \n",
       "674  45124699                                          Интроверт   \n",
       "\n",
       "                                                  Name Salary      From  \\\n",
       "0    Junior Full Stack Developer (Младший разработчик)  False       NaN   \n",
       "1            Junior+/Middle Python Backend Разработчик   True   80000.0   \n",
       "2                                Junior Data Scientist   True  104400.0   \n",
       "3             Junior Risk Quant (Quantitative Analyst)  False       NaN   \n",
       "4    Junior разработчик Computer Vision со знанием ...  False       NaN   \n",
       "..                                                 ...    ...       ...   \n",
       "670                      Junior программист JavaScript   True   55000.0   \n",
       "671             Junior Архитектор (Облачная Платформа)  False       NaN   \n",
       "672                            Junior Java разработчик   True   80000.0   \n",
       "673                         Junior C#/.NET разработчик  False       NaN   \n",
       "674                           Программист PHP (Junior)   True   20000.0   \n",
       "\n",
       "           To          Experience          Schedule  \\\n",
       "0         NaN  От 1 года до 3 лет       Полный день   \n",
       "1    140000.0  От 1 года до 3 лет  Удаленная работа   \n",
       "2         NaN  От 1 года до 3 лет       Полный день   \n",
       "3         NaN  От 1 года до 3 лет       Полный день   \n",
       "4         NaN  От 1 года до 3 лет       Полный день   \n",
       "..        ...                 ...               ...   \n",
       "670   70000.0           Нет опыта     Гибкий график   \n",
       "671       NaN  От 1 года до 3 лет       Полный день   \n",
       "672  120000.0  От 1 года до 3 лет  Удаленная работа   \n",
       "673       NaN  От 1 года до 3 лет       Полный день   \n",
       "674   40000.0           Нет опыта  Удаленная работа   \n",
       "\n",
       "                                                  Keys  \\\n",
       "0                                                   []   \n",
       "1    ['Python', 'Django Framework', 'PostgreSQL', '...   \n",
       "2    ['PyTorch', 'TensorFlow', 'Scikit-learn', 'xgb...   \n",
       "3                                                   []   \n",
       "4    ['Python', 'C++', 'Деловая коммуникация', 'Lin...   \n",
       "..                                                 ...   \n",
       "670                          ['JavaScript', 'Node.js']   \n",
       "671  ['UML', 'Системная интеграция', 'Системный ана...   \n",
       "672  ['PostgreSQL', 'Java', 'Hibernate ORM', 'ООП',...   \n",
       "673  ['ООП', 'SQL', 'PostgreSQL', 'Git', '.NET Core...   \n",
       "674  ['CSS', 'PHP', 'HTML', 'jQuery', 'JavaScript',...   \n",
       "\n",
       "                                           Description  \n",
       "0    Команда, занимающаяся сопровождением деятельно...  \n",
       "1    О компании Присоединяйтесь к нашей команде Dee...  \n",
       "2    Лаборатории анализа данных и отраслевой динами...  \n",
       "3    В Центре рыночного и портфельного моделировани...  \n",
       "4    Привет! Мы продуктовая компания, развивающая с...  \n",
       "..                                                 ...  \n",
       "670  Мы расширяем команду разработки системы видеон...  \n",
       "671  Обязанности:  Основная задача - участие в прое...  \n",
       "672  О компании: Компания-разработчик финтех ПО ище...  \n",
       "673  Компания CUSTIS специализируется на проектиров...  \n",
       "674  Интроверт ЦРМ Системы — интегратор, специализи...  \n",
       "\n",
       "[675 rows x 10 columns]"
      ]
     },
     "execution_count": 52,
     "metadata": {},
     "output_type": "execute_result"
    }
   ],
   "source": [
    "front = df_bd.loc[df_bd['Name'].str.contains(\"front-end\", case=False)]\n",
    "front = df_bd.loc[df_bd['Name'].str.contains(\"frontend\", case=False)]\n",
    "front = df_bd.loc[df_bd['Name'].str.contains(\"junior\", case=False)]\n",
    "\n",
    "front = front.reset_index(drop=True)\n",
    "front"
   ]
  },
  {
   "cell_type": "code",
   "execution_count": 50,
   "id": "0785c005",
   "metadata": {},
   "outputs": [
    {
     "data": {
      "text/plain": [
       "'В команду крупнейшей телекоммуникационной компании требуется Tech Lead frontend (middle+). Чем предстоит заниматься:  Поддержка и развитие существующих проектов; Работа с интерфейсами, поддержка и разработка новых модулей; Работа с визуализацией графиков, таблиц и других компонентов; Множественная фильтрация отображаемых данных; Работа с osm-картами, оптимизация запросов для повышения качества и скорости загрузки данных.    Преимущества позиции:  Работа в крупнейшем телекоммуникационном холдинге; Оформление по ТК РФ и полностью белая зп; Возможность работать удаленно и в офисе в центре (желаемый график обсуждается на собеседовании); Внешнее обучение в России и за рубежом за счет компании (New Prolab, BigData Team, GeekBrains и др.); Компенсация затрат на мобильную связь; ДМС (включая стоматологию), страхование при выезде заграницу; Частичная компенсация спорта; Возможность участия в корпоративных спортивных; Регулярные митапы онлайн и в офисе с внешними спикерами из разных областей.    Мы ждем от кандидата:  Знание javascript (знания стандарта es6), react, redux\\\\mobx, html5, css от 3 лет; Опыт работы с библиотеками компонентов (прим. bootstrap) Знание styled-components, solid принципов разработки Навыки работы с git  Дополнительным плюсом будут:  опыт управления командой разработки (дизайнер, фронт, бэк) знание python3 опыт работы с веб-фреймворками, но круче, если вы работали с Flask`ом работа с базами postgresql, clickhouse, redis linux shell webpack gunicorn/wsgi shedulers опыт написания unit-тестов(это всегда хорошо). работа с WebSockets. '"
      ]
     },
     "execution_count": 50,
     "metadata": {},
     "output_type": "execute_result"
    }
   ],
   "source": [
    "front.loc[2649][\"Description\"]"
   ]
  },
  {
   "cell_type": "code",
   "execution_count": 53,
   "id": "e7e14f46",
   "metadata": {},
   "outputs": [],
   "source": [
    "model = SentenceTransformer('distiluse-base-multilingual-cased-v1')"
   ]
  },
  {
   "cell_type": "code",
   "execution_count": 54,
   "id": "3640d02c",
   "metadata": {},
   "outputs": [],
   "source": [
    "embeddings = model.encode(front['Description'])"
   ]
  },
  {
   "cell_type": "code",
   "execution_count": 55,
   "id": "8958cbdb",
   "metadata": {},
   "outputs": [],
   "source": [
    "front_embeding = np.mean(embeddings)"
   ]
  },
  {
   "cell_type": "code",
   "execution_count": 56,
   "id": "ce7776a0",
   "metadata": {},
   "outputs": [],
   "source": [
    "from scipy.spatial.distance import cosine, correlation, dice, minkowski"
   ]
  },
  {
   "cell_type": "code",
   "execution_count": 57,
   "id": "f870fb72",
   "metadata": {},
   "outputs": [],
   "source": [
    "df_books = pd.read_csv(\"./books.csv\", header=0)"
   ]
  },
  {
   "cell_type": "code",
   "execution_count": 58,
   "id": "2e5cc4f7",
   "metadata": {},
   "outputs": [],
   "source": [
    "book_embeddings = model.encode(df_books['описание'])"
   ]
  },
  {
   "cell_type": "code",
   "execution_count": 66,
   "id": "fe6dc336",
   "metadata": {},
   "outputs": [],
   "source": [
    "rec_book = []"
   ]
  },
  {
   "cell_type": "code",
   "execution_count": 67,
   "id": "4c49e2bd",
   "metadata": {
    "scrolled": true
   },
   "outputs": [
    {
     "name": "stdout",
     "output_type": "stream",
     "text": [
      "0.8960238099098206\n",
      "0.918541669845581\n",
      "0.9028019905090332\n",
      "0.9394478797912598\n",
      "0.974772572517395\n",
      "0.9476220607757568\n",
      "0.8868780732154846\n",
      "0.8814297318458557\n",
      "1.0160551071166992\n",
      "1.0160551071166992\n",
      "0.9568729996681213\n",
      "0.9448398947715759\n",
      "0.9431036114692688\n",
      "0.9325714111328125\n",
      "0.9421147704124451\n",
      "0.9764954447746277\n",
      "0.9717892408370972\n",
      "0.9565492272377014\n",
      "0.947245717048645\n",
      "0.9413230419158936\n",
      "0.9071229100227356\n",
      "0.9344757199287415\n",
      "0.9046014547348022\n",
      "0.9100378751754761\n",
      "0.8997211456298828\n",
      "0.9516872763633728\n",
      "0.9709367156028748\n",
      "0.9675219655036926\n",
      "0.9620016813278198\n",
      "0.9296491146087646\n",
      "0.9020056128501892\n"
     ]
    }
   ],
   "source": [
    "for bk_index in range(len(book_embeddings)):\n",
    "    print(minkowski(front_embeding, book_embeddings[bk_index]))\n",
    "    if minkowski(front_embeding, book_embeddings[bk_index]) > 0.98:\n",
    "        print(minkowski(front_embeding, book_embeddings[bk_index]))\n",
    "        rec_book.append(df_books.loc[bk_index]['название'])"
   ]
  },
  {
   "cell_type": "code",
   "execution_count": 68,
   "id": "47467771",
   "metadata": {},
   "outputs": [
    {
     "data": {
      "text/plain": [
       "['Qt 5.10. Профессиональное программирование на C++']"
      ]
     },
     "execution_count": 68,
     "metadata": {},
     "output_type": "execute_result"
    }
   ],
   "source": [
    "rec_book"
   ]
  },
  {
   "cell_type": "code",
   "execution_count": null,
   "id": "4aa6d1d2",
   "metadata": {},
   "outputs": [],
   "source": []
  }
 ],
 "metadata": {
  "kernelspec": {
   "display_name": "Python 3",
   "language": "python",
   "name": "python3"
  },
  "language_info": {
   "codemirror_mode": {
    "name": "ipython",
    "version": 3
   },
   "file_extension": ".py",
   "mimetype": "text/x-python",
   "name": "python",
   "nbconvert_exporter": "python",
   "pygments_lexer": "ipython3",
   "version": "3.7.10"
  }
 },
 "nbformat": 4,
 "nbformat_minor": 5
}
