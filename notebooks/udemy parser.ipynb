{
 "cells": [
  {
   "cell_type": "code",
   "execution_count": 1,
   "id": "2469689c",
   "metadata": {},
   "outputs": [],
   "source": [
    "from selenium import webdriver\n",
    "from selenium.common.exceptions import TimeoutException\n",
    "from selenium.webdriver.support.ui import WebDriverWait\n",
    "from selenium.webdriver.support import expected_conditions as EC\n",
    "from selenium.webdriver.common.by import By\n",
    "from tqdm import tqdm\n",
    "import time"
   ]
  },
  {
   "cell_type": "code",
   "execution_count": 2,
   "id": "52c06459",
   "metadata": {},
   "outputs": [],
   "source": [
    "driver = webdriver.Firefox()"
   ]
  },
  {
   "cell_type": "code",
   "execution_count": 3,
   "id": "daf663eb",
   "metadata": {},
   "outputs": [],
   "source": [
    "def get_info_course(url, driver):\n",
    "    driver.get(url)\n",
    "    time.sleep(5)\n",
    "    title = driver.find_element_by_tag_name(\"h1\").text\n",
    "    img = driver.find_elements_by_tag_name(\"img\")\n",
    "    image = img[1].get_attribute(\"src\")\n",
    "    desc = \"\"\n",
    "    for item in driver.find_elements_by_class_name(\"show-more--content--isg5c\"):\n",
    "        if item.find_elements_by_tag_name(\"p\"):\n",
    "            desc = item.text\n",
    "            break\n",
    "    return {\"name\":title, \"img\":image, \"desc\": desc, \"url\": url}"
   ]
  },
  {
   "cell_type": "code",
   "execution_count": 4,
   "id": "a469b875",
   "metadata": {},
   "outputs": [],
   "source": [
    "datas = []"
   ]
  },
  {
   "cell_type": "code",
   "execution_count": 5,
   "id": "d0bf2aa9",
   "metadata": {},
   "outputs": [
    {
     "name": "stderr",
     "output_type": "stream",
     "text": [
      "100%|██████████| 26/26 [03:00<00:00,  6.92s/it]\n",
      "100%|██████████| 27/27 [02:55<00:00,  6.52s/it]\n",
      "100%|██████████| 29/29 [03:26<00:00,  7.11s/it]\n",
      "100%|██████████| 29/29 [03:18<00:00,  6.85s/it]\n",
      "100%|██████████| 29/29 [03:14<00:00,  6.69s/it]\n",
      "100%|██████████| 23/23 [02:30<00:00,  6.56s/it]\n",
      "100%|██████████| 10/10 [01:02<00:00,  6.27s/it]\n",
      "100%|██████████| 10/10 [01:00<00:00,  6.09s/it]\n",
      "100%|██████████| 10/10 [01:01<00:00,  6.14s/it]\n"
     ]
    }
   ],
   "source": [
    "for page in range(1, 10):\n",
    "    url_page = f\"https://www.udemy.com/topic/deep-learning/?p={page}&ratings=4.5&sort=popularity\"\n",
    "    driver.get(url_page)\n",
    "    time.sleep(4)\n",
    "    courses = driver.find_elements_by_class_name('browse-course-card--link--3KIkQ')\n",
    "    courses_link = []\n",
    "    for course in courses:\n",
    "        courses_link.append(course.get_attribute(\"href\"))\n",
    "        \n",
    "    sorted_url = list(set(courses_link))\n",
    "    for url in tqdm(sorted_url):\n",
    "        datas.append(get_info_course(url, driver))\n",
    "        "
   ]
  },
  {
   "cell_type": "code",
   "execution_count": 6,
   "id": "5449a31b",
   "metadata": {},
   "outputs": [],
   "source": [
    "import pandas as pd\n",
    "df = pd.DataFrame.from_dict(datas)"
   ]
  },
  {
   "cell_type": "code",
   "execution_count": 7,
   "id": "c64482c2",
   "metadata": {},
   "outputs": [],
   "source": [
    "df.to_csv(\"./datasos.csv\")"
   ]
  },
  {
   "cell_type": "code",
   "execution_count": 11,
   "id": "9e495740",
   "metadata": {},
   "outputs": [
    {
     "data": {
      "text/plain": [
       "'Представляю Вам курс \"Java. От простого к сложному\".  С помощью данного курса вы сможете усвоить основные концепции самого популярного на данный момент объектно-ориентированного языка программирования. В процессе прохождения курса вы изучите принципы ООП, научитесь работать с коллекциями, усвоите основы многопоточности, поймете, как устроены Лямбда-выражения. Мы с Вами так же научимся работать с файлами и познакомимся с некоторыми другими темами. Курс построен таким образом, что вы можете проходить разделы независимо друг от друга. Большинство разделов устроены так, что первые несколько видео рассказывают основы, а последние дают углубленное понимание темы.  Материал подается с целью дать достаточно глубокое понимание темы, чтобы студент мог внятно отвечать на поставленные вопросы в процессе прохождения собеседования. Данный курс не заменит Вам практику. Вы должны писать код, чтобы добиться успеха. Но для того чтобы облегчить вам задачу, в процессе обновления курса будут добавляться практические задания. Так же огромным плюсом будет участие в дискуссиях на нашем форуме. '"
      ]
     },
     "execution_count": 11,
     "metadata": {},
     "output_type": "execute_result"
    }
   ],
   "source": [
    "df.loc[0].desc"
   ]
  },
  {
   "cell_type": "code",
   "execution_count": null,
   "id": "35831491",
   "metadata": {},
   "outputs": [],
   "source": []
  }
 ],
 "metadata": {
  "kernelspec": {
   "display_name": "Python 3",
   "language": "python",
   "name": "python3"
  },
  "language_info": {
   "codemirror_mode": {
    "name": "ipython",
    "version": 3
   },
   "file_extension": ".py",
   "mimetype": "text/x-python",
   "name": "python",
   "nbconvert_exporter": "python",
   "pygments_lexer": "ipython3",
   "version": "3.7.10"
  }
 },
 "nbformat": 4,
 "nbformat_minor": 5
}
