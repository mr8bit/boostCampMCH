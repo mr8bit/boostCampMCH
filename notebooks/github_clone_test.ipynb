{
 "cells": [
  {
   "cell_type": "code",
   "execution_count": 1,
   "id": "de1ecba3",
   "metadata": {},
   "outputs": [],
   "source": [
    "from github import Github\n",
    "import git\n",
    "# First create a Github instance:\n",
    "\n",
    "# using an access token\n",
    "g = Github(\"\")\n"
   ]
  },
  {
   "cell_type": "code",
   "execution_count": 2,
   "id": "e9c466f6",
   "metadata": {},
   "outputs": [],
   "source": [
    "import os\n",
    "from pathlib import Path"
   ]
  },
  {
   "cell_type": "code",
   "execution_count": 3,
   "id": "20eebd41",
   "metadata": {},
   "outputs": [
    {
     "name": "stdout",
     "output_type": "stream",
     "text": [
      "anyio==3.1.0\r\n",
      "argon2-cffi==20.1.0\r\n",
      "async-generator==1.10\r\n",
      "attrs==21.2.0\r\n",
      "Babel==2.9.1\r\n",
      "backcall==0.2.0\r\n",
      "bertopic==0.8.1\r\n",
      "bleach==3.3.0\r\n",
      "bpemb==0.3.3\r\n",
      "certifi==2021.5.30\r\n",
      "cffi==1.14.5\r\n",
      "chardet==4.0.0\r\n",
      "click==8.0.1\r\n",
      "cloudpickle==1.6.0\r\n",
      "cycler==0.10.0\r\n",
      "Cython==0.29.23\r\n",
      "decorator==4.4.2\r\n",
      "defusedxml==0.7.1\r\n",
      "Deprecated==1.2.12\r\n",
      "entrypoints==0.3\r\n",
      "filelock==3.0.12\r\n",
      "flair==0.8.0.post1\r\n",
      "ftfy==6.0.3\r\n",
      "future==0.18.2\r\n",
      "gdown==3.12.2\r\n",
      "gensim==3.8.3\r\n",
      "gitdb==4.0.7\r\n",
      "GitPython==3.1.17\r\n",
      "hdbscan==0.8.27\r\n",
      "huggingface-hub==0.0.8\r\n",
      "hyperopt==0.2.5\r\n",
      "idna==2.10\r\n",
      "importlib-metadata==3.10.1\r\n",
      "install==1.3.4\r\n",
      "ipykernel==5.5.5\r\n",
      "ipython==7.24.1\r\n",
      "ipython-genutils==0.2.0\r\n",
      "ipywidgets==7.6.3\r\n",
      "Janome==0.4.1\r\n",
      "jedi==0.18.0\r\n",
      "Jinja2==3.0.1\r\n",
      "joblib==1.0.1\r\n",
      "json5==0.9.5\r\n",
      "jsonschema==3.2.0\r\n",
      "jupyter-client==6.1.12\r\n",
      "jupyter-core==4.7.1\r\n",
      "jupyter-server==1.8.0\r\n",
      "jupyterlab==3.0.16\r\n",
      "jupyterlab-pygments==0.1.2\r\n",
      "jupyterlab-server==2.6.0\r\n",
      "jupyterlab-widgets==1.0.0\r\n",
      "kiwisolver==1.3.1\r\n",
      "konoha==4.6.5\r\n",
      "langdetect==1.0.9\r\n",
      "llvmlite==0.36.0\r\n",
      "lxml==4.6.3\r\n",
      "MarkupSafe==2.0.1\r\n",
      "matplotlib==3.4.2\r\n",
      "matplotlib-inline==0.1.2\r\n",
      "mistune==0.8.4\r\n",
      "mpld3==0.3\r\n",
      "nbclassic==0.3.1\r\n",
      "nbclient==0.5.3\r\n",
      "nbconvert==6.0.7\r\n",
      "nbformat==5.1.3\r\n",
      "nest-asyncio==1.5.1\r\n",
      "networkx==2.5.1\r\n",
      "nltk==3.6.2\r\n",
      "notebook==6.4.0\r\n",
      "numba==0.53.1\r\n",
      "numpy==1.20.3\r\n",
      "overrides==3.1.0\r\n",
      "packaging==20.9\r\n",
      "pandas==1.2.4\r\n",
      "pandocfilters==1.4.3\r\n",
      "parso==0.8.2\r\n",
      "pexpect==4.8.0\r\n",
      "pickleshare==0.7.5\r\n",
      "Pillow==8.2.0\r\n",
      "pkg-resources==0.0.0\r\n",
      "plotly==4.14.2\r\n",
      "prometheus-client==0.11.0\r\n",
      "prompt-toolkit==3.0.18\r\n",
      "ptyprocess==0.7.0\r\n",
      "pycparser==2.20\r\n",
      "PyGithub==1.55\r\n",
      "Pygments==2.9.0\r\n",
      "PyJWT==2.1.0\r\n",
      "PyNaCl==1.4.0\r\n",
      "pynndescent==0.5.2\r\n",
      "pyparsing==2.4.7\r\n",
      "pyrsistent==0.17.3\r\n",
      "PySocks==1.7.1\r\n",
      "python-dateutil==2.8.1\r\n",
      "pytz==2021.1\r\n",
      "pyzmq==22.1.0\r\n",
      "regex==2021.4.4\r\n",
      "requests==2.25.1\r\n",
      "retrying==1.3.3\r\n",
      "sacremoses==0.0.45\r\n",
      "scikit-learn==0.24.2\r\n",
      "scipy==1.6.3\r\n",
      "seaborn==0.11.1\r\n",
      "segtok==1.5.10\r\n",
      "selenium==3.141.0\r\n",
      "Send2Trash==1.5.0\r\n",
      "sentence-transformers==1.2.0\r\n",
      "sentencepiece==0.1.95\r\n",
      "six==1.16.0\r\n",
      "smart-open==5.1.0\r\n",
      "smmap==4.0.0\r\n",
      "sniffio==1.2.0\r\n",
      "sqlitedict==1.7.0\r\n",
      "tabulate==0.8.9\r\n",
      "terminado==0.10.1\r\n",
      "testpath==0.5.0\r\n",
      "threadpoolctl==2.1.0\r\n",
      "tokenizers==0.10.3\r\n",
      "torch==1.7.1\r\n",
      "torchvision==0.9.1\r\n",
      "tornado==6.1\r\n",
      "tqdm==4.61.0\r\n",
      "traitlets==5.0.5\r\n",
      "transformers==4.6.1\r\n",
      "typing-extensions==3.10.0.0\r\n",
      "umap-learn==0.5.1\r\n",
      "urllib3==1.26.5\r\n",
      "wcwidth==0.2.5\r\n",
      "webencodings==0.5.1\r\n",
      "websocket-client==1.1.0\r\n",
      "widgetsnbextension==3.5.1\r\n",
      "wrapt==1.12.1\r\n",
      "zipp==3.4.1\r\n"
     ]
    }
   ],
   "source": [
    "!pip freeze"
   ]
  },
  {
   "cell_type": "code",
   "execution_count": 4,
   "id": "dcb5c7f0",
   "metadata": {},
   "outputs": [],
   "source": [
    "username = \"godemodegame\""
   ]
  },
  {
   "cell_type": "code",
   "execution_count": 5,
   "id": "bf37a268",
   "metadata": {},
   "outputs": [],
   "source": [
    "user_path = f\"./codes/{username}\""
   ]
  },
  {
   "cell_type": "code",
   "execution_count": 6,
   "id": "d9734698",
   "metadata": {},
   "outputs": [],
   "source": [
    "Path(user_path).mkdir(parents=True, exist_ok=True)"
   ]
  },
  {
   "cell_type": "code",
   "execution_count": 7,
   "id": "f89e4f8a",
   "metadata": {},
   "outputs": [],
   "source": [
    "user = g.get_user(username)"
   ]
  },
  {
   "cell_type": "code",
   "execution_count": 8,
   "id": "78c01c31",
   "metadata": {},
   "outputs": [
    {
     "name": "stdout",
     "output_type": "stream",
     "text": [
      "triggerBot\n",
      "testExercise\n",
      "SteamClient\n",
      "SkyengTest\n",
      "SberOnline\n",
      "RostelecomAuto\n",
      "randomMeme\n",
      "PartyFinder\n",
      "Nibless\n",
      "matlab\n"
     ]
    }
   ],
   "source": [
    "for repo in user.get_repos(direction=\"desc\")[:10]:\n",
    "    print(repo.name)\n",
    "    try:\n",
    "        git.Git(user_path).clone(repo.git_url)\n",
    "    except:\n",
    "        pass"
   ]
  },
  {
   "cell_type": "code",
   "execution_count": 9,
   "id": "697636e0",
   "metadata": {},
   "outputs": [],
   "source": [
    "file_ext = [\"*.py\", \"*.swift\", \"*.cpp\", \"*.c\", \"*.h\", \"*.cs\", \"*.js\", \"*.jsx\", \"*.ts\", \"*.tsx\"]"
   ]
  },
  {
   "cell_type": "code",
   "execution_count": 10,
   "id": "a68ea396",
   "metadata": {},
   "outputs": [],
   "source": [
    "import glob"
   ]
  },
  {
   "cell_type": "code",
   "execution_count": 11,
   "id": "1bfaec2d",
   "metadata": {},
   "outputs": [],
   "source": [
    "file_to_analysis= []"
   ]
  },
  {
   "cell_type": "code",
   "execution_count": 12,
   "id": "ae0aa643",
   "metadata": {},
   "outputs": [],
   "source": [
    "for ext in file_ext:\n",
    "    file_to_analysis.extend(\n",
    "        glob.glob(f\"{user_path}/**/*{ext}\",recursive=True)\n",
    "    )"
   ]
  },
  {
   "cell_type": "code",
   "execution_count": 13,
   "id": "92da16bd",
   "metadata": {},
   "outputs": [],
   "source": [
    "files = []"
   ]
  },
  {
   "cell_type": "code",
   "execution_count": 14,
   "id": "63406fdd",
   "metadata": {},
   "outputs": [],
   "source": [
    "for file in file_to_analysis:\n",
    "    with open(file, 'r') as reader:\n",
    "        files.append(reader.read())"
   ]
  },
  {
   "cell_type": "code",
   "execution_count": 15,
   "id": "f2dd40f3",
   "metadata": {},
   "outputs": [
    {
     "data": {
      "text/plain": [
       "525"
      ]
     },
     "execution_count": 15,
     "metadata": {},
     "output_type": "execute_result"
    }
   ],
   "source": [
    "len(files)"
   ]
  },
  {
   "cell_type": "code",
   "execution_count": 16,
   "id": "5bb5d1e9",
   "metadata": {},
   "outputs": [],
   "source": [
    "from transformers import AutoTokenizer, AutoModelForTokenClassification\n",
    "from transformers import pipeline\n",
    "tokenizer = AutoTokenizer.from_pretrained(\"mrm8488/codebert-base-finetuned-stackoverflow-ner\")\n",
    "\n",
    "model = AutoModelForTokenClassification.from_pretrained(\"mrm8488/codebert-base-finetuned-stackoverflow-ner\")"
   ]
  },
  {
   "cell_type": "code",
   "execution_count": 17,
   "id": "3867e374",
   "metadata": {},
   "outputs": [],
   "source": [
    "nlp = pipeline(\"ner\", model=model, tokenizer=tokenizer, grouped_entities=True)"
   ]
  },
  {
   "cell_type": "code",
   "execution_count": 18,
   "id": "e682716c",
   "metadata": {},
   "outputs": [],
   "source": [
    "from tqdm import tqdm"
   ]
  },
  {
   "cell_type": "code",
   "execution_count": 19,
   "id": "8b9fe194",
   "metadata": {},
   "outputs": [],
   "source": [
    "user_lib = []"
   ]
  },
  {
   "cell_type": "code",
   "execution_count": null,
   "id": "e2913639",
   "metadata": {},
   "outputs": [],
   "source": []
  },
  {
   "cell_type": "code",
   "execution_count": 20,
   "id": "0c5e32c3",
   "metadata": {},
   "outputs": [
    {
     "name": "stderr",
     "output_type": "stream",
     "text": [
      "100%|██████████| 525/525 [01:24<00:00,  6.21it/s]\n"
     ]
    }
   ],
   "source": [
    "for item in tqdm(files):\n",
    "    ner_results = nlp(item.lower())\n",
    "    for ner in ner_results:\n",
    "        if ner['entity_group'] == 'Library':\n",
    "            user_lib.append(ner['word'])"
   ]
  },
  {
   "cell_type": "code",
   "execution_count": 35,
   "id": "6967afd0",
   "metadata": {},
   "outputs": [],
   "source": [
    "update_lib = []\n",
    "for item in user_lib:\n",
    "    lib = [x for x in item.split(' ') if len(x)>2]\n",
    "    if lib:\n",
    "        update_lib.append(lib[-1])"
   ]
  },
  {
   "cell_type": "code",
   "execution_count": 36,
   "id": "ac751bc6",
   "metadata": {},
   "outputs": [],
   "source": [
    "my_dict = {i:update_lib.count(i) for i in update_lib}"
   ]
  },
  {
   "cell_type": "code",
   "execution_count": 50,
   "id": "6a0718a7",
   "metadata": {
    "scrolled": true
   },
   "outputs": [],
   "source": [
    "sum_ = 0\n",
    "for liba in sorted(my_dict, key=lambda x: x[1], reverse=True)[:10]:\n",
    "    sum_+=my_dict[liba]"
   ]
  },
  {
   "cell_type": "code",
   "execution_count": 52,
   "id": "aebc1ca3",
   "metadata": {},
   "outputs": [],
   "source": []
  },
  {
   "cell_type": "code",
   "execution_count": 66,
   "id": "faf08ef8",
   "metadata": {},
   "outputs": [],
   "source": [
    "lib_record = []\n",
    "for liba in sorted(my_dict, key=lambda x: x[1], reverse=True)[:10]:\n",
    "    lib_record.append({\"name\":liba, \"value\": int((my_dict[liba]/sum_)*100)})"
   ]
  },
  {
   "cell_type": "code",
   "execution_count": 67,
   "id": "c8e595df",
   "metadata": {},
   "outputs": [
    {
     "data": {
      "text/plain": [
       "[{'name': 'swift', 'value': 66},\n",
       " {'name': 'swiftui', 'value': 10},\n",
       " {'name': 'avkit', 'value': 1},\n",
       " {'name': 'luent', 'value': 1},\n",
       " {'name': 'sqlite3', 'value': 2},\n",
       " {'name': 'sqlite', 'value': 2},\n",
       " {'name': 'api', 'value': 1},\n",
       " {'name': 'spritekit', 'value': 7},\n",
       " {'name': 'apor', 'value': 2},\n",
       " {'name': 'app', 'value': 2}]"
      ]
     },
     "execution_count": 67,
     "metadata": {},
     "output_type": "execute_result"
    }
   ],
   "source": [
    "lib_record"
   ]
  },
  {
   "cell_type": "code",
   "execution_count": 68,
   "id": "f1af0360",
   "metadata": {},
   "outputs": [
    {
     "data": {
      "text/plain": [
       "[(22, 'xctest'),\n",
       " (23, 'xct'),\n",
       " (15, 'widgetkit'),\n",
       " (5, 'webkit'),\n",
       " (33, 'vapor'),\n",
       " (3, 'uikit'),\n",
       " (21, 'uik'),\n",
       " (41, 'uge'),\n",
       " (20, 'tools'),\n",
       " (8, 'swiftui')]"
      ]
     },
     "execution_count": 68,
     "metadata": {},
     "output_type": "execute_result"
    }
   ],
   "source": [
    "sorted(enumerate(my_dict), key=lambda x: x[1], reverse=True)[:10]"
   ]
  },
  {
   "cell_type": "code",
   "execution_count": 69,
   "id": "6f2a4e2d",
   "metadata": {},
   "outputs": [],
   "source": [
    "langs = []\n",
    "for file in file_to_analysis:\n",
    "    langs.append(file.split('.')[-1])"
   ]
  },
  {
   "cell_type": "code",
   "execution_count": 70,
   "id": "c0d554bb",
   "metadata": {},
   "outputs": [],
   "source": [
    "langs_dict = {i:langs.count(i)/len(file_to_analysis) for i in langs}"
   ]
  },
  {
   "cell_type": "code",
   "execution_count": 75,
   "id": "6330566c",
   "metadata": {},
   "outputs": [],
   "source": [
    "record_lang = []\n",
    "for language in sorted(langs_dict, key=lambda x: x, reverse=True)[:10]:\n",
    "    record_lang.append({'name':language, 'value': int(langs_dict[language]*100)})"
   ]
  },
  {
   "cell_type": "code",
   "execution_count": 76,
   "id": "43e93f1f",
   "metadata": {},
   "outputs": [
    {
     "data": {
      "text/plain": [
       "[{'name': 'swift', 'value': 59},\n",
       " {'name': 'py', 'value': 0},\n",
       " {'name': 'h', 'value': 39}]"
      ]
     },
     "execution_count": 76,
     "metadata": {},
     "output_type": "execute_result"
    }
   ],
   "source": [
    "record_lang"
   ]
  },
  {
   "cell_type": "code",
   "execution_count": 25,
   "id": "f4e1be8d",
   "metadata": {},
   "outputs": [],
   "source": [
    "import seaborn as sns\n",
    "import matplotlib.pyplot as plt"
   ]
  },
  {
   "cell_type": "code",
   "execution_count": 26,
   "id": "16b8705d",
   "metadata": {},
   "outputs": [
    {
     "data": {
      "image/png": "[encoded data removed]",
      "text/plain": [
       "<Figure size 1200x480 with 1 Axes>"
      ]
     },
     "metadata": {
      "needs_background": "light"
     },
     "output_type": "display_data"
    }
   ],
   "source": [
    "plt.figure(figsize=(15, 6), dpi=80)\n",
    "sns.barplot(data=top_languages[:10], x='index', y='lib');\n",
    "plt.xticks(rotation=90);"
   ]
  },
  {
   "cell_type": "code",
   "execution_count": null,
   "id": "e58ea585",
   "metadata": {},
   "outputs": [],
   "source": []
  }
 ],
 "metadata": {
  "kernelspec": {
   "display_name": "Python 3",
   "language": "python",
   "name": "python3"
  },
  "language_info": {
   "codemirror_mode": {
    "name": "ipython",
    "version": 3
   },
   "file_extension": ".py",
   "mimetype": "text/x-python",
   "name": "python",
   "nbconvert_exporter": "python",
   "pygments_lexer": "ipython3",
   "version": "3.7.10"
  }
 },
 "nbformat": 4,
 "nbformat_minor": 5
}