{
 "cells": [
  {
   "cell_type": "code",
   "execution_count": 1,
   "id": "be0ec146",
   "metadata": {},
   "outputs": [],
   "source": [
    "from transformers import AutoTokenizer, AutoModelForSequenceClassification\n",
    "import torch\n",
    "import numpy as np\n",
    "tokenizer = AutoTokenizer.from_pretrained('mrm8488/codebert-base-finetuned-detect-insecure-code')\n",
    "model = AutoModelForSequenceClassification.from_pretrained('mrm8488/codebert-base-finetuned-detect-insecure-code')"
   ]
  },
  {
   "cell_type": "code",
   "execution_count": 2,
   "id": "a339d99c",
   "metadata": {},
   "outputs": [],
   "source": [
    "import torch\n",
    "import numpy as np"
   ]
  },
  {
   "cell_type": "code",
   "execution_count": 8,
   "id": "10d68ca6",
   "metadata": {},
   "outputs": [],
   "source": [
    "new_doc = \"\"\"\n",
    "//\n",
    "//  GithubWebPresenter.swift\n",
    "//  boostCamp\n",
    "//\n",
    "//  Created by godemodegame on 12.06.2021.\n",
    "//\n",
    "\n",
    "import Foundation\n",
    "\n",
    "protocol GithubWebPresenterProtocol: AnyObject {\n",
    "    func requestForCallbackURL(request: URLRequest)\n",
    "    func viewLoaded()\n",
    "}\n",
    "\n",
    "final class GithubWebPresenter: GithubWebPresenterProtocol {\n",
    "\n",
    "    // MARK: Vars\n",
    "\n",
    "    weak var view: GithubWebViewProtocol?\n",
    "    let githubService: GithubServiceProtocol\n",
    "\n",
    "    var completion: (() -> Void)?\n",
    "\n",
    "    // MARK: Lifecycle\n",
    "\n",
    "    init(\n",
    "        view: GithubWebViewProtocol,\n",
    "        githubService: GithubServiceProtocol\n",
    "    ) {\n",
    "        self.view = view\n",
    "        self.githubService = githubService\n",
    "    }\n",
    "\n",
    "    // MARK: - GithubWebPresenterProtocol\n",
    "\n",
    "    func viewLoaded() {\n",
    "        guard let request = githubService.makeUrl() else {\n",
    "            fatalError(\"no url in github view\")\n",
    "        }\n",
    "        view?.loadWebView(with: request)\n",
    "    }\n",
    "\n",
    "    // MARK: - тут начинается дичь, которую надо вынести в сервис, ибо ну не дела\n",
    "\n",
    "    func requestForCallbackURL(request: URLRequest) {\n",
    "        // Get the authorization code string after the '?code=' and before '&state='\n",
    "        let requestURLString = (request.url?.absoluteString)! as String\n",
    "        print(requestURLString)\n",
    "        if requestURLString.hasPrefix(GithubConstants.REDIRECT_URI) {\n",
    "            if requestURLString.contains(\"code=\") {\n",
    "                if let range = requestURLString.range(of: \"=\") {\n",
    "                    let githubCode = requestURLString[range.upperBound...]\n",
    "                    if let range = githubCode.range(of: \"&state=\") {\n",
    "                        let githubCodeFinal = githubCode[..<range.lowerBound]\n",
    "                        githubRequestForAccessToken(authCode: String(githubCodeFinal))\n",
    "                        // Close GitHub Auth ViewController after getting Authorization Code\n",
    "                        view?.close()\n",
    "                    }\n",
    "                }\n",
    "            }\n",
    "        }\n",
    "    }\n",
    "\n",
    "    func githubRequestForAccessToken(authCode: String) {\n",
    "        let grantType = \"authorization_code\"\n",
    "        // Set the POST parameters.\n",
    "        let postParams = \"grant_type=\" + grantType + \"&code=\" + authCode + \"&client_id=\" + GithubConstants.CLIENT_ID + \"&client_secret=\" + GithubConstants.CLIENT_SECRET\n",
    "        let postData = postParams.data(using: String.Encoding.utf8)\n",
    "        let request = NSMutableURLRequest(url: URL(string: GithubConstants.TOKENURL)!)\n",
    "        request.httpMethod = \"POST\"\n",
    "        request.httpBody = postData\n",
    "        request.addValue(\"application/json\", forHTTPHeaderField: \"Accept\")\n",
    "        let session = URLSession(configuration: URLSessionConfiguration.default)\n",
    "        session.dataTask(with: request as URLRequest) { [weak self] (data, response, _) -> Void in\n",
    "            let statusCode = (response as! HTTPURLResponse).statusCode\n",
    "            if statusCode == 200 {\n",
    "                let results = try! JSONSerialization.jsonObject(with: data!, options: .allowFragments) as? [AnyHashable: Any]\n",
    "                let accessToken = results?[\"access_token\"] as! String\n",
    "                // Get user's id, display name, email, profile pic url\n",
    "                self?.fetchGitHubUserProfile(accessToken: accessToken)\n",
    "            }\n",
    "        }.resume()\n",
    "    }\n",
    "\n",
    "    func fetchGitHubUserProfile(accessToken: String) {\n",
    "        let tokenURLFull = \"https://api.github.com/user\"\n",
    "        let verify: NSURL = NSURL(string: tokenURLFull)!\n",
    "        let request: NSMutableURLRequest = NSMutableURLRequest(url: verify as URL)\n",
    "        request.addValue(\"Bearer \" + accessToken, forHTTPHeaderField: \"Authorization\")\n",
    "        URLSession.shared.dataTask(with: request as URLRequest) { [weak self] data, _, error in\n",
    "            if error == nil {\n",
    "                let result = try! JSONSerialization.jsonObject(with: data!, options: .allowFragments) as? [AnyHashable: Any]\n",
    "                if let urlString = result?[\"url\"] as? String{\n",
    "                    self?.fetchUser(from: urlString)\n",
    "                }\n",
    "                DispatchQueue.main.async {\n",
    "                    self?.completion?()\n",
    "                }\n",
    "            }\n",
    "        }.resume()\n",
    "    }\n",
    "\n",
    "    func fetchUser(from link: String) {\n",
    "        // \"https://github.com/godemodegame\" \"https://api.github.com/users/godemodegame\"\n",
    "        let potentialUsers = link.split(separator: \"/\").filter {\n",
    "            $0 != \"https:\" && $0 !=  \"api.github.com\" && $0 != \"github.com\" && $0 != \"users\"\n",
    "        }\n",
    "        print(potentialUsers)\n",
    "    }\n",
    "}\n",
    "\"\"\""
   ]
  },
  {
   "cell_type": "code",
   "execution_count": 9,
   "id": "5a7a5c63",
   "metadata": {},
   "outputs": [],
   "source": [
    "inputs = tokenizer(new_doc, return_tensors=\"pt\", truncation=True, padding='max_length')\n",
    "labels = torch.tensor([1]).unsqueeze(0)  # Batch size 1\n",
    "outputs = model(**inputs, labels=labels)\n",
    "loss = outputs.loss\n",
    "logits = outputs.logits"
   ]
  },
  {
   "cell_type": "code",
   "execution_count": 10,
   "id": "8486476c",
   "metadata": {},
   "outputs": [
    {
     "data": {
      "text/plain": [
       "tensor(0.0024, grad_fn=<NllLossBackward>)"
      ]
     },
     "execution_count": 10,
     "metadata": {},
     "output_type": "execute_result"
    }
   ],
   "source": [
    "loss"
   ]
  },
  {
   "cell_type": "code",
   "execution_count": 11,
   "id": "1d78ed76",
   "metadata": {},
   "outputs": [
    {
     "data": {
      "text/plain": [
       "tensor([[-3.1823,  2.8317]], grad_fn=<AddmmBackward>)"
      ]
     },
     "execution_count": 11,
     "metadata": {},
     "output_type": "execute_result"
    }
   ],
   "source": [
    "logits"
   ]
  },
  {
   "cell_type": "code",
   "execution_count": null,
   "id": "52feca49",
   "metadata": {},
   "outputs": [],
   "source": []
  },
  {
   "cell_type": "code",
   "execution_count": null,
   "id": "48fbeb6a",
   "metadata": {},
   "outputs": [],
   "source": []
  }
 ],
 "metadata": {
  "kernelspec": {
   "display_name": "Python 3",
   "language": "python",
   "name": "python3"
  },
  "language_info": {
   "codemirror_mode": {
    "name": "ipython",
    "version": 3
   },
   "file_extension": ".py",
   "mimetype": "text/x-python",
   "name": "python",
   "nbconvert_exporter": "python",
   "pygments_lexer": "ipython3",
   "version": "3.7.10"
  }
 },
 "nbformat": 4,
 "nbformat_minor": 5
}
