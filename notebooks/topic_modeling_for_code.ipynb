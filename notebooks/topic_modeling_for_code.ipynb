{
 "cells": [
  {
   "cell_type": "code",
   "execution_count": 1,
   "id": "8d302a9b-3505-4895-9afd-2e9fae5c5ddd",
   "metadata": {},
   "outputs": [],
   "source": [
    "import pandas as pd\n",
    "import seaborn as sns\n",
    "import matplotlib.pyplot as plt\n",
    "import numpy as np"
   ]
  },
  {
   "cell_type": "code",
   "execution_count": 2,
   "id": "b081c7e1-d27f-4980-a332-8d6278418b3b",
   "metadata": {},
   "outputs": [],
   "source": [
    "df = pd.read_csv(\"./sample_code.csv\", lineterminator='\\n')"
   ]
  },
  {
   "cell_type": "code",
   "execution_count": 3,
   "id": "77f7475c-df22-4115-b796-9ac52b81af56",
   "metadata": {},
   "outputs": [
    {
     "data": {
      "text/html": [
       "<div>\n",
       "<style scoped>\n",
       "    .dataframe tbody tr th:only-of-type {\n",
       "        vertical-align: middle;\n",
       "    }\n",
       "\n",
       "    .dataframe tbody tr th {\n",
       "        vertical-align: top;\n",
       "    }\n",
       "\n",
       "    .dataframe thead th {\n",
       "        text-align: right;\n",
       "    }\n",
       "</style>\n",
       "<table border=\"1\" class=\"dataframe\">\n",
       "  <thead>\n",
       "    <tr style=\"text-align: right;\">\n",
       "      <th></th>\n",
       "      <th>content</th>\n",
       "      <th>type</th>\n",
       "    </tr>\n",
       "  </thead>\n",
       "  <tbody>\n",
       "    <tr>\n",
       "      <th>0</th>\n",
       "      <td>// Utility.cs\\n//\\n\\nusing System;\\nusing Syst...</td>\n",
       "      <td>cs</td>\n",
       "    </tr>\n",
       "    <tr>\n",
       "      <th>1</th>\n",
       "      <td>\\n{$options.identity.sitename} - Your Accounts...</td>\n",
       "      <td>txt</td>\n",
       "    </tr>\n",
       "    <tr>\n",
       "      <th>2</th>\n",
       "      <td>{\\n  \"name\": \"opulence/sessions\",\\n  \"descript...</td>\n",
       "      <td>json</td>\n",
       "    </tr>\n",
       "    <tr>\n",
       "      <th>3</th>\n",
       "      <td>package io.mycat.backend.postgresql.packet;\\r\\...</td>\n",
       "      <td>java</td>\n",
       "    </tr>\n",
       "    <tr>\n",
       "      <th>4</th>\n",
       "      <td>TAPi18n._afterUILanguageChange = function() {\\...</td>\n",
       "      <td>js</td>\n",
       "    </tr>\n",
       "  </tbody>\n",
       "</table>\n",
       "</div>"
      ],
      "text/plain": [
       "                                             content  type\n",
       "0  // Utility.cs\\n//\\n\\nusing System;\\nusing Syst...    cs\n",
       "1  \\n{$options.identity.sitename} - Your Accounts...   txt\n",
       "2  {\\n  \"name\": \"opulence/sessions\",\\n  \"descript...  json\n",
       "3  package io.mycat.backend.postgresql.packet;\\r\\...  java\n",
       "4  TAPi18n._afterUILanguageChange = function() {\\...    js"
      ]
     },
     "execution_count": 3,
     "metadata": {},
     "output_type": "execute_result"
    }
   ],
   "source": [
    "df.head()"
   ]
  },
  {
   "cell_type": "code",
   "execution_count": 4,
   "id": "aba5590a-c7a0-4310-b5a6-8d4277f41ae6",
   "metadata": {},
   "outputs": [
    {
     "data": {
      "text/html": [
       "<div>\n",
       "<style scoped>\n",
       "    .dataframe tbody tr th:only-of-type {\n",
       "        vertical-align: middle;\n",
       "    }\n",
       "\n",
       "    .dataframe tbody tr th {\n",
       "        vertical-align: top;\n",
       "    }\n",
       "\n",
       "    .dataframe thead th {\n",
       "        text-align: right;\n",
       "    }\n",
       "</style>\n",
       "<table border=\"1\" class=\"dataframe\">\n",
       "  <thead>\n",
       "    <tr style=\"text-align: right;\">\n",
       "      <th></th>\n",
       "      <th>content</th>\n",
       "      <th>type</th>\n",
       "    </tr>\n",
       "  </thead>\n",
       "  <tbody>\n",
       "    <tr>\n",
       "      <th>count</th>\n",
       "      <td>681918</td>\n",
       "      <td>681912</td>\n",
       "    </tr>\n",
       "    <tr>\n",
       "      <th>unique</th>\n",
       "      <td>681917</td>\n",
       "      <td>33583</td>\n",
       "    </tr>\n",
       "    <tr>\n",
       "      <th>top</th>\n",
       "      <td>street_name_no,plz,city,attr1,geom_wkt,geom\\n\"...</td>\n",
       "      <td>js</td>\n",
       "    </tr>\n",
       "    <tr>\n",
       "      <th>freq</th>\n",
       "      <td>2</td>\n",
       "      <td>49464</td>\n",
       "    </tr>\n",
       "  </tbody>\n",
       "</table>\n",
       "</div>"
      ],
      "text/plain": [
       "                                                  content    type\n",
       "count                                              681918  681912\n",
       "unique                                             681917   33583\n",
       "top     street_name_no,plz,city,attr1,geom_wkt,geom\\n\"...      js\n",
       "freq                                                    2   49464"
      ]
     },
     "execution_count": 4,
     "metadata": {},
     "output_type": "execute_result"
    }
   ],
   "source": [
    "df.describe(include='all')"
   ]
  },
  {
   "cell_type": "code",
   "execution_count": 5,
   "id": "9e4e85b9-7aee-4197-aa3f-43e4dc8e1fcd",
   "metadata": {},
   "outputs": [],
   "source": [
    "df.loc[df['type'].isin(['C', 'cpp', 'cc', 'h']), 'type'] = 'cpp'\n",
    "## Combine .html & .htm to .html, say\n",
    "df.loc[df['type'].isin(['html', 'htm']), 'type'] = 'html'"
   ]
  },
  {
   "cell_type": "code",
   "execution_count": 6,
   "id": "32f57409-f29a-4648-96ed-b418090ced4b",
   "metadata": {},
   "outputs": [],
   "source": [
    "indexNames = df[ df['type'].isin(['cpp', 'Dockerfile','php','html','py','swift','java','rb','cs','go','js','ts'])== False].index"
   ]
  },
  {
   "cell_type": "code",
   "execution_count": 7,
   "id": "743f245f",
   "metadata": {},
   "outputs": [],
   "source": [
    "df.drop(indexNames , inplace=True)\n",
    "df = df.reset_index(drop=True)"
   ]
  },
  {
   "cell_type": "code",
   "execution_count": 8,
   "id": "dceb2e36",
   "metadata": {},
   "outputs": [
    {
     "data": {
      "text/html": [
       "<div>\n",
       "<style scoped>\n",
       "    .dataframe tbody tr th:only-of-type {\n",
       "        vertical-align: middle;\n",
       "    }\n",
       "\n",
       "    .dataframe tbody tr th {\n",
       "        vertical-align: top;\n",
       "    }\n",
       "\n",
       "    .dataframe thead th {\n",
       "        text-align: right;\n",
       "    }\n",
       "</style>\n",
       "<table border=\"1\" class=\"dataframe\">\n",
       "  <thead>\n",
       "    <tr style=\"text-align: right;\">\n",
       "      <th></th>\n",
       "      <th>content</th>\n",
       "      <th>type</th>\n",
       "    </tr>\n",
       "  </thead>\n",
       "  <tbody>\n",
       "    <tr>\n",
       "      <th>233844</th>\n",
       "      <td>﻿// Copyright (c) 2013 Romain Vallet &lt;romain.v...</td>\n",
       "      <td>js</td>\n",
       "    </tr>\n",
       "    <tr>\n",
       "      <th>196096</th>\n",
       "      <td>describe Spree do\\n  describe '.solidus_versio...</td>\n",
       "      <td>rb</td>\n",
       "    </tr>\n",
       "    <tr>\n",
       "      <th>224497</th>\n",
       "      <td>﻿/*\\nCopyright (c) 2003-2013, CKSource - Frede...</td>\n",
       "      <td>js</td>\n",
       "    </tr>\n",
       "    <tr>\n",
       "      <th>252711</th>\n",
       "      <td>// Copyright 2009 the Sputnik authors.  All ri...</td>\n",
       "      <td>js</td>\n",
       "    </tr>\n",
       "    <tr>\n",
       "      <th>36080</th>\n",
       "      <td>/* jshint node:true */\\n(function () {\\n\\t'use...</td>\n",
       "      <td>js</td>\n",
       "    </tr>\n",
       "    <tr>\n",
       "      <th>...</th>\n",
       "      <td>...</td>\n",
       "      <td>...</td>\n",
       "    </tr>\n",
       "    <tr>\n",
       "      <th>30528</th>\n",
       "      <td>var rootview, page;\\r\\nrootview = ui(\"$\");\\r\\n...</td>\n",
       "      <td>js</td>\n",
       "    </tr>\n",
       "    <tr>\n",
       "      <th>234082</th>\n",
       "      <td>/*\\n * Licensed under the Apache License, Vers...</td>\n",
       "      <td>java</td>\n",
       "    </tr>\n",
       "    <tr>\n",
       "      <th>251868</th>\n",
       "      <td>// Copyright (c) Microsoft.  All Rights Reserv...</td>\n",
       "      <td>cs</td>\n",
       "    </tr>\n",
       "    <tr>\n",
       "      <th>40091</th>\n",
       "      <td>﻿using Microsoft.Owin;\\nusing Owin;\\n\\n[assemb...</td>\n",
       "      <td>cs</td>\n",
       "    </tr>\n",
       "    <tr>\n",
       "      <th>219526</th>\n",
       "      <td>package leaks.BranchReturnRefute;\\npublic clas...</td>\n",
       "      <td>java</td>\n",
       "    </tr>\n",
       "  </tbody>\n",
       "</table>\n",
       "<p>262327 rows × 2 columns</p>\n",
       "</div>"
      ],
      "text/plain": [
       "                                                  content  type\n",
       "233844  ﻿// Copyright (c) 2013 Romain Vallet <romain.v...    js\n",
       "196096  describe Spree do\\n  describe '.solidus_versio...    rb\n",
       "224497  ﻿/*\\nCopyright (c) 2003-2013, CKSource - Frede...    js\n",
       "252711  // Copyright 2009 the Sputnik authors.  All ri...    js\n",
       "36080   /* jshint node:true */\\n(function () {\\n\\t'use...    js\n",
       "...                                                   ...   ...\n",
       "30528   var rootview, page;\\r\\nrootview = ui(\"$\");\\r\\n...    js\n",
       "234082  /*\\n * Licensed under the Apache License, Vers...  java\n",
       "251868  // Copyright (c) Microsoft.  All Rights Reserv...    cs\n",
       "40091   ﻿using Microsoft.Owin;\\nusing Owin;\\n\\n[assemb...    cs\n",
       "219526  package leaks.BranchReturnRefute;\\npublic clas...  java\n",
       "\n",
       "[262327 rows x 2 columns]"
      ]
     },
     "execution_count": 8,
     "metadata": {},
     "output_type": "execute_result"
    }
   ],
   "source": [
    "df.iloc[np.random.permutation(len(df))]"
   ]
  },
  {
   "cell_type": "code",
   "execution_count": 9,
   "id": "c4da6334",
   "metadata": {},
   "outputs": [
    {
     "data": {
      "text/html": [
       "<div>\n",
       "<style scoped>\n",
       "    .dataframe tbody tr th:only-of-type {\n",
       "        vertical-align: middle;\n",
       "    }\n",
       "\n",
       "    .dataframe tbody tr th {\n",
       "        vertical-align: top;\n",
       "    }\n",
       "\n",
       "    .dataframe thead th {\n",
       "        text-align: right;\n",
       "    }\n",
       "</style>\n",
       "<table border=\"1\" class=\"dataframe\">\n",
       "  <thead>\n",
       "    <tr style=\"text-align: right;\">\n",
       "      <th></th>\n",
       "      <th>content</th>\n",
       "      <th>type</th>\n",
       "    </tr>\n",
       "  </thead>\n",
       "  <tbody>\n",
       "    <tr>\n",
       "      <th>count</th>\n",
       "      <td>262327</td>\n",
       "      <td>262327</td>\n",
       "    </tr>\n",
       "    <tr>\n",
       "      <th>unique</th>\n",
       "      <td>262327</td>\n",
       "      <td>12</td>\n",
       "    </tr>\n",
       "    <tr>\n",
       "      <th>top</th>\n",
       "      <td>package org.glob3.mobile.generated; \\r\\npublic...</td>\n",
       "      <td>js</td>\n",
       "    </tr>\n",
       "    <tr>\n",
       "      <th>freq</th>\n",
       "      <td>1</td>\n",
       "      <td>49464</td>\n",
       "    </tr>\n",
       "  </tbody>\n",
       "</table>\n",
       "</div>"
      ],
      "text/plain": [
       "                                                  content    type\n",
       "count                                              262327  262327\n",
       "unique                                             262327      12\n",
       "top     package org.glob3.mobile.generated; \\r\\npublic...      js\n",
       "freq                                                    1   49464"
      ]
     },
     "execution_count": 9,
     "metadata": {},
     "output_type": "execute_result"
    }
   ],
   "source": [
    "df.describe(include='all')"
   ]
  },
  {
   "cell_type": "code",
   "execution_count": 10,
   "id": "ab21fb97",
   "metadata": {},
   "outputs": [],
   "source": [
    "type_counts = df['type'].value_counts().to_frame()"
   ]
  },
  {
   "cell_type": "code",
   "execution_count": 11,
   "id": "07860549",
   "metadata": {},
   "outputs": [],
   "source": [
    "langs = list(type_counts.index)"
   ]
  },
  {
   "cell_type": "code",
   "execution_count": 12,
   "id": "5697f772",
   "metadata": {},
   "outputs": [],
   "source": [
    "new_df = pd.DataFrame(columns=['content', 'type'])"
   ]
  },
  {
   "cell_type": "code",
   "execution_count": 13,
   "id": "28e9cabd",
   "metadata": {},
   "outputs": [],
   "source": [
    "for lang in langs:\n",
    "    new_df = new_df.append(df[ df['type'] == lang][:10000], ignore_index=True)"
   ]
  },
  {
   "cell_type": "code",
   "execution_count": 14,
   "id": "9bf0bae9",
   "metadata": {},
   "outputs": [
    {
     "data": {
      "text/html": [
       "<div>\n",
       "<style scoped>\n",
       "    .dataframe tbody tr th:only-of-type {\n",
       "        vertical-align: middle;\n",
       "    }\n",
       "\n",
       "    .dataframe tbody tr th {\n",
       "        vertical-align: top;\n",
       "    }\n",
       "\n",
       "    .dataframe thead th {\n",
       "        text-align: right;\n",
       "    }\n",
       "</style>\n",
       "<table border=\"1\" class=\"dataframe\">\n",
       "  <thead>\n",
       "    <tr style=\"text-align: right;\">\n",
       "      <th></th>\n",
       "      <th>content</th>\n",
       "      <th>type</th>\n",
       "    </tr>\n",
       "  </thead>\n",
       "  <tbody>\n",
       "    <tr>\n",
       "      <th>0</th>\n",
       "      <td>TAPi18n._afterUILanguageChange = function() {\\...</td>\n",
       "      <td>js</td>\n",
       "    </tr>\n",
       "    <tr>\n",
       "      <th>1</th>\n",
       "      <td>import Promise from 'bluebird';\\n\\nconst ONE_S...</td>\n",
       "      <td>js</td>\n",
       "    </tr>\n",
       "    <tr>\n",
       "      <th>2</th>\n",
       "      <td>//&gt;&gt;built\\ndefine(\\n//begin v1.x content\\n({\\n...</td>\n",
       "      <td>js</td>\n",
       "    </tr>\n",
       "    <tr>\n",
       "      <th>3</th>\n",
       "      <td>import { themr } from 'react-css-themr';\\nimpo...</td>\n",
       "      <td>js</td>\n",
       "    </tr>\n",
       "    <tr>\n",
       "      <th>4</th>\n",
       "      <td>//// [unqualifiedCallToClassStatic1.ts]\\r\\ncla...</td>\n",
       "      <td>js</td>\n",
       "    </tr>\n",
       "    <tr>\n",
       "      <th>...</th>\n",
       "      <td>...</td>\n",
       "      <td>...</td>\n",
       "    </tr>\n",
       "    <tr>\n",
       "      <th>95983</th>\n",
       "      <td>FROM golang:1.5\\n\\n## dkv-netshare is BASE ima...</td>\n",
       "      <td>Dockerfile</td>\n",
       "    </tr>\n",
       "    <tr>\n",
       "      <th>95984</th>\n",
       "      <td># Set the base image to Ubuntu\\nFROM node:late...</td>\n",
       "      <td>Dockerfile</td>\n",
       "    </tr>\n",
       "    <tr>\n",
       "      <th>95985</th>\n",
       "      <td>FROM debian:jessie\\nMAINTAINER David Personett...</td>\n",
       "      <td>Dockerfile</td>\n",
       "    </tr>\n",
       "    <tr>\n",
       "      <th>95986</th>\n",
       "      <td>#\\n# Node.js Versioned w/ Bower &amp; Gulp Dockerf...</td>\n",
       "      <td>Dockerfile</td>\n",
       "    </tr>\n",
       "    <tr>\n",
       "      <th>95987</th>\n",
       "      <td>FROM ubuntu:trusty\\nMAINTAINER czmq Developers...</td>\n",
       "      <td>Dockerfile</td>\n",
       "    </tr>\n",
       "  </tbody>\n",
       "</table>\n",
       "<p>95988 rows × 2 columns</p>\n",
       "</div>"
      ],
      "text/plain": [
       "                                                 content        type\n",
       "0      TAPi18n._afterUILanguageChange = function() {\\...          js\n",
       "1      import Promise from 'bluebird';\\n\\nconst ONE_S...          js\n",
       "2      //>>built\\ndefine(\\n//begin v1.x content\\n({\\n...          js\n",
       "3      import { themr } from 'react-css-themr';\\nimpo...          js\n",
       "4      //// [unqualifiedCallToClassStatic1.ts]\\r\\ncla...          js\n",
       "...                                                  ...         ...\n",
       "95983  FROM golang:1.5\\n\\n## dkv-netshare is BASE ima...  Dockerfile\n",
       "95984  # Set the base image to Ubuntu\\nFROM node:late...  Dockerfile\n",
       "95985  FROM debian:jessie\\nMAINTAINER David Personett...  Dockerfile\n",
       "95986  #\\n# Node.js Versioned w/ Bower & Gulp Dockerf...  Dockerfile\n",
       "95987  FROM ubuntu:trusty\\nMAINTAINER czmq Developers...  Dockerfile\n",
       "\n",
       "[95988 rows x 2 columns]"
      ]
     },
     "execution_count": 14,
     "metadata": {},
     "output_type": "execute_result"
    }
   ],
   "source": [
    "df = new_df\n",
    "new_df = []\n",
    "df"
   ]
  },
  {
   "cell_type": "code",
   "execution_count": 15,
   "id": "3877db58",
   "metadata": {},
   "outputs": [],
   "source": [
    "#df=df[:90000]"
   ]
  },
  {
   "cell_type": "code",
   "execution_count": 16,
   "id": "e0c9256f-eab3-4350-9ca9-be1adb787317",
   "metadata": {},
   "outputs": [],
   "source": [
    "type_counts = df['type'].value_counts().to_frame().reset_index()"
   ]
  },
  {
   "cell_type": "code",
   "execution_count": 17,
   "id": "a82480c5-c800-44b6-a3f2-1c05fa181f34",
   "metadata": {},
   "outputs": [
    {
     "data": {
      "text/html": [
       "<div>\n",
       "<style scoped>\n",
       "    .dataframe tbody tr th:only-of-type {\n",
       "        vertical-align: middle;\n",
       "    }\n",
       "\n",
       "    .dataframe tbody tr th {\n",
       "        vertical-align: top;\n",
       "    }\n",
       "\n",
       "    .dataframe thead th {\n",
       "        text-align: right;\n",
       "    }\n",
       "</style>\n",
       "<table border=\"1\" class=\"dataframe\">\n",
       "  <thead>\n",
       "    <tr style=\"text-align: right;\">\n",
       "      <th></th>\n",
       "      <th>index</th>\n",
       "      <th>type</th>\n",
       "    </tr>\n",
       "  </thead>\n",
       "  <tbody>\n",
       "    <tr>\n",
       "      <th>0</th>\n",
       "      <td>php</td>\n",
       "      <td>10000</td>\n",
       "    </tr>\n",
       "    <tr>\n",
       "      <th>1</th>\n",
       "      <td>rb</td>\n",
       "      <td>10000</td>\n",
       "    </tr>\n",
       "    <tr>\n",
       "      <th>2</th>\n",
       "      <td>java</td>\n",
       "      <td>10000</td>\n",
       "    </tr>\n",
       "    <tr>\n",
       "      <th>3</th>\n",
       "      <td>cs</td>\n",
       "      <td>10000</td>\n",
       "    </tr>\n",
       "    <tr>\n",
       "      <th>4</th>\n",
       "      <td>html</td>\n",
       "      <td>10000</td>\n",
       "    </tr>\n",
       "    <tr>\n",
       "      <th>5</th>\n",
       "      <td>js</td>\n",
       "      <td>10000</td>\n",
       "    </tr>\n",
       "    <tr>\n",
       "      <th>6</th>\n",
       "      <td>cpp</td>\n",
       "      <td>10000</td>\n",
       "    </tr>\n",
       "    <tr>\n",
       "      <th>7</th>\n",
       "      <td>py</td>\n",
       "      <td>10000</td>\n",
       "    </tr>\n",
       "    <tr>\n",
       "      <th>8</th>\n",
       "      <td>swift</td>\n",
       "      <td>6273</td>\n",
       "    </tr>\n",
       "    <tr>\n",
       "      <th>9</th>\n",
       "      <td>go</td>\n",
       "      <td>6004</td>\n",
       "    </tr>\n",
       "    <tr>\n",
       "      <th>10</th>\n",
       "      <td>ts</td>\n",
       "      <td>3456</td>\n",
       "    </tr>\n",
       "    <tr>\n",
       "      <th>11</th>\n",
       "      <td>Dockerfile</td>\n",
       "      <td>255</td>\n",
       "    </tr>\n",
       "  </tbody>\n",
       "</table>\n",
       "</div>"
      ],
      "text/plain": [
       "         index   type\n",
       "0          php  10000\n",
       "1           rb  10000\n",
       "2         java  10000\n",
       "3           cs  10000\n",
       "4         html  10000\n",
       "5           js  10000\n",
       "6          cpp  10000\n",
       "7           py  10000\n",
       "8        swift   6273\n",
       "9           go   6004\n",
       "10          ts   3456\n",
       "11  Dockerfile    255"
      ]
     },
     "execution_count": 17,
     "metadata": {},
     "output_type": "execute_result"
    }
   ],
   "source": [
    "type_counts"
   ]
  },
  {
   "cell_type": "code",
   "execution_count": 19,
   "id": "e25013aa-652b-4293-99bb-c2c9053bef9d",
   "metadata": {},
   "outputs": [
    {
     "data": {
      "image/png": "[encoded data removed]",
      "text/plain": [
       "<Figure size 1200x240 with 1 Axes>"
      ]
     },
     "metadata": {
      "needs_background": "light"
     },
     "output_type": "display_data"
    }
   ],
   "source": [
    "plt.figure(figsize=(15, 3), dpi=80)\n",
    "sns.barplot(data=type_counts, x='index', y='type');\n",
    "plt.xticks(rotation=90);"
   ]
  },
  {
   "cell_type": "code",
   "execution_count": 20,
   "id": "02ec7e68-8db7-4e22-a6e1-024708183f97",
   "metadata": {},
   "outputs": [
    {
     "data": {
      "text/html": [
       "<div>\n",
       "<style scoped>\n",
       "    .dataframe tbody tr th:only-of-type {\n",
       "        vertical-align: middle;\n",
       "    }\n",
       "\n",
       "    .dataframe tbody tr th {\n",
       "        vertical-align: top;\n",
       "    }\n",
       "\n",
       "    .dataframe thead th {\n",
       "        text-align: right;\n",
       "    }\n",
       "</style>\n",
       "<table border=\"1\" class=\"dataframe\">\n",
       "  <thead>\n",
       "    <tr style=\"text-align: right;\">\n",
       "      <th></th>\n",
       "      <th>content</th>\n",
       "      <th>type</th>\n",
       "    </tr>\n",
       "  </thead>\n",
       "  <tbody>\n",
       "    <tr>\n",
       "      <th>0</th>\n",
       "      <td>TAPi18n._afterUILanguageChange = function() {\\...</td>\n",
       "      <td>js</td>\n",
       "    </tr>\n",
       "    <tr>\n",
       "      <th>1</th>\n",
       "      <td>import Promise from 'bluebird';\\n\\nconst ONE_S...</td>\n",
       "      <td>js</td>\n",
       "    </tr>\n",
       "    <tr>\n",
       "      <th>2</th>\n",
       "      <td>//&gt;&gt;built\\ndefine(\\n//begin v1.x content\\n({\\n...</td>\n",
       "      <td>js</td>\n",
       "    </tr>\n",
       "    <tr>\n",
       "      <th>3</th>\n",
       "      <td>import { themr } from 'react-css-themr';\\nimpo...</td>\n",
       "      <td>js</td>\n",
       "    </tr>\n",
       "    <tr>\n",
       "      <th>4</th>\n",
       "      <td>//// [unqualifiedCallToClassStatic1.ts]\\r\\ncla...</td>\n",
       "      <td>js</td>\n",
       "    </tr>\n",
       "    <tr>\n",
       "      <th>...</th>\n",
       "      <td>...</td>\n",
       "      <td>...</td>\n",
       "    </tr>\n",
       "    <tr>\n",
       "      <th>95983</th>\n",
       "      <td>FROM golang:1.5\\n\\n## dkv-netshare is BASE ima...</td>\n",
       "      <td>Dockerfile</td>\n",
       "    </tr>\n",
       "    <tr>\n",
       "      <th>95984</th>\n",
       "      <td># Set the base image to Ubuntu\\nFROM node:late...</td>\n",
       "      <td>Dockerfile</td>\n",
       "    </tr>\n",
       "    <tr>\n",
       "      <th>95985</th>\n",
       "      <td>FROM debian:jessie\\nMAINTAINER David Personett...</td>\n",
       "      <td>Dockerfile</td>\n",
       "    </tr>\n",
       "    <tr>\n",
       "      <th>95986</th>\n",
       "      <td>#\\n# Node.js Versioned w/ Bower &amp; Gulp Dockerf...</td>\n",
       "      <td>Dockerfile</td>\n",
       "    </tr>\n",
       "    <tr>\n",
       "      <th>95987</th>\n",
       "      <td>FROM ubuntu:trusty\\nMAINTAINER czmq Developers...</td>\n",
       "      <td>Dockerfile</td>\n",
       "    </tr>\n",
       "  </tbody>\n",
       "</table>\n",
       "<p>95988 rows × 2 columns</p>\n",
       "</div>"
      ],
      "text/plain": [
       "                                                 content        type\n",
       "0      TAPi18n._afterUILanguageChange = function() {\\...          js\n",
       "1      import Promise from 'bluebird';\\n\\nconst ONE_S...          js\n",
       "2      //>>built\\ndefine(\\n//begin v1.x content\\n({\\n...          js\n",
       "3      import { themr } from 'react-css-themr';\\nimpo...          js\n",
       "4      //// [unqualifiedCallToClassStatic1.ts]\\r\\ncla...          js\n",
       "...                                                  ...         ...\n",
       "95983  FROM golang:1.5\\n\\n## dkv-netshare is BASE ima...  Dockerfile\n",
       "95984  # Set the base image to Ubuntu\\nFROM node:late...  Dockerfile\n",
       "95985  FROM debian:jessie\\nMAINTAINER David Personett...  Dockerfile\n",
       "95986  #\\n# Node.js Versioned w/ Bower & Gulp Dockerf...  Dockerfile\n",
       "95987  FROM ubuntu:trusty\\nMAINTAINER czmq Developers...  Dockerfile\n",
       "\n",
       "[95988 rows x 2 columns]"
      ]
     },
     "execution_count": 20,
     "metadata": {},
     "output_type": "execute_result"
    }
   ],
   "source": [
    "df"
   ]
  },
  {
   "cell_type": "code",
   "execution_count": 21,
   "id": "b54b04d7-2c09-4af6-8dd5-d33d9a0852d4",
   "metadata": {},
   "outputs": [],
   "source": [
    "docs = df['content']"
   ]
  },
  {
   "cell_type": "code",
   "execution_count": 22,
   "id": "aa6b7ba0-ef9d-4f05-8bd5-1cc7ab4feed9",
   "metadata": {},
   "outputs": [],
   "source": [
    "from bertopic import BERTopic"
   ]
  },
  {
   "cell_type": "code",
   "execution_count": 23,
   "id": "8dd907fa-0f44-44e0-a07b-2498247c131f",
   "metadata": {},
   "outputs": [
    {
     "data": {
      "text/plain": [
       "'0.8.1'"
      ]
     },
     "execution_count": 23,
     "metadata": {},
     "output_type": "execute_result"
    }
   ],
   "source": [
    "import bertopic\n",
    "bertopic.__version__"
   ]
  },
  {
   "cell_type": "code",
   "execution_count": 24,
   "id": "13e873c6-0135-4d4e-bdd7-64ccc524b4b4",
   "metadata": {},
   "outputs": [],
   "source": [
    "from sentence_transformers import SentenceTransformer\n",
    "sentence_model = SentenceTransformer(\"huggingface/CodeBERTa-small-v1\", device=\"cuda\")\n",
    "topic_model = BERTopic(embedding_model=sentence_model,verbose=True, n_gram_range=(1,2))"
   ]
  },
  {
   "cell_type": "code",
   "execution_count": null,
   "id": "3375897f-7c56-4da5-b8df-2bf8c85d477b",
   "metadata": {},
   "outputs": [
    {
     "data": {
      "application/vnd.jupyter.widget-view+json": {
       "model_id": "0534eda84eaf4bc8a9c9ccad4ff91eb5",
       "version_major": 2,
       "version_minor": 0
      },
      "text/plain": [
       "Batches:   0%|          | 0/3000 [00:00<?, ?it/s]"
      ]
     },
     "metadata": {},
     "output_type": "display_data"
    },
    {
     "name": "stderr",
     "output_type": "stream",
     "text": [
      "2021-06-14 06:42:58,981 - BERTopic - Transformed documents to Embeddings\n",
      "2021-06-14 06:43:41,695 - BERTopic - Reduced dimensionality with UMAP\n",
      "2021-06-14 06:43:45,357 - BERTopic - Clustered UMAP embeddings with HDBSCAN\n"
     ]
    }
   ],
   "source": [
    "topics, probabilities = topic_model.fit_transform(docs)"
   ]
  },
  {
   "cell_type": "code",
   "execution_count": 48,
   "id": "ed19d5a9-3297-4e95-91ed-3cc0c373b5b8",
   "metadata": {},
   "outputs": [
    {
     "data": {
      "text/html": [
       "<div>\n",
       "<style scoped>\n",
       "    .dataframe tbody tr th:only-of-type {\n",
       "        vertical-align: middle;\n",
       "    }\n",
       "\n",
       "    .dataframe tbody tr th {\n",
       "        vertical-align: top;\n",
       "    }\n",
       "\n",
       "    .dataframe thead th {\n",
       "        text-align: right;\n",
       "    }\n",
       "</style>\n",
       "<table border=\"1\" class=\"dataframe\">\n",
       "  <thead>\n",
       "    <tr style=\"text-align: right;\">\n",
       "      <th></th>\n",
       "      <th>Topic</th>\n",
       "      <th>Count</th>\n",
       "      <th>Name</th>\n",
       "    </tr>\n",
       "  </thead>\n",
       "  <tbody>\n",
       "    <tr>\n",
       "      <th>0</th>\n",
       "      <td>-1</td>\n",
       "      <td>35798</td>\n",
       "      <td>-1_log_if err_print_println</td>\n",
       "    </tr>\n",
       "    <tr>\n",
       "      <th>1</th>\n",
       "      <td>0</td>\n",
       "      <td>1766</td>\n",
       "      <td>0_reserved import_import foundation_import uik...</td>\n",
       "    </tr>\n",
       "    <tr>\n",
       "      <th>2</th>\n",
       "      <td>1</td>\n",
       "      <td>1248</td>\n",
       "      <td>1_end def_def initialize_def self_private def</td>\n",
       "    </tr>\n",
       "    <tr>\n",
       "      <th>3</th>\n",
       "      <td>2</td>\n",
       "      <td>1161</td>\n",
       "      <td>2___init_____init__ self_def __init___from django</td>\n",
       "    </tr>\n",
       "    <tr>\n",
       "      <th>4</th>\n",
       "      <td>3</td>\n",
       "      <td>1097</td>\n",
       "      <td>3_endblock_endblock block_block content_endblo...</td>\n",
       "    </tr>\n",
       "    <tr>\n",
       "      <th>...</th>\n",
       "      <td>...</td>\n",
       "      <td>...</td>\n",
       "      <td>...</td>\n",
       "    </tr>\n",
       "    <tr>\n",
       "      <th>115</th>\n",
       "      <td>114</td>\n",
       "      <td>109</td>\n",
       "      <td>114_assert_equal_unit testcase_test unit_test_...</td>\n",
       "    </tr>\n",
       "    <tr>\n",
       "      <th>116</th>\n",
       "      <td>115</td>\n",
       "      <td>107</td>\n",
       "      <td>115_add lang_feb_am pm_jun jul</td>\n",
       "    </tr>\n",
       "    <tr>\n",
       "      <th>117</th>\n",
       "      <td>116</td>\n",
       "      <td>106</td>\n",
       "      <td>116_assert equal_testify_stretchr testify_stre...</td>\n",
       "    </tr>\n",
       "    <tr>\n",
       "      <th>118</th>\n",
       "      <td>117</td>\n",
       "      <td>104</td>\n",
       "      <td>117_fla_obj_fla_obj fla_obj_eth zurich_group p...</td>\n",
       "    </tr>\n",
       "    <tr>\n",
       "      <th>119</th>\n",
       "      <td>118</td>\n",
       "      <td>103</td>\n",
       "      <td>118_string json_int json_bool json_string xml</td>\n",
       "    </tr>\n",
       "  </tbody>\n",
       "</table>\n",
       "<p>120 rows × 3 columns</p>\n",
       "</div>"
      ],
      "text/plain": [
       "     Topic  Count                                               Name\n",
       "0       -1  35798                        -1_log_if err_print_println\n",
       "1        0   1766  0_reserved import_import foundation_import uik...\n",
       "2        1   1248      1_end def_def initialize_def self_private def\n",
       "3        2   1161  2___init_____init__ self_def __init___from django\n",
       "4        3   1097  3_endblock_endblock block_block content_endblo...\n",
       "..     ...    ...                                                ...\n",
       "115    114    109  114_assert_equal_unit testcase_test unit_test_...\n",
       "116    115    107                     115_add lang_feb_am pm_jun jul\n",
       "117    116    106  116_assert equal_testify_stretchr testify_stre...\n",
       "118    117    104  117_fla_obj_fla_obj fla_obj_eth zurich_group p...\n",
       "119    118    103      118_string json_int json_bool json_string xml\n",
       "\n",
       "[120 rows x 3 columns]"
      ]
     },
     "execution_count": 48,
     "metadata": {},
     "output_type": "execute_result"
    }
   ],
   "source": [
    "topic_model.get_topic_info()[topic_model.get_topic_info()[\"Count\"]>100]"
   ]
  },
  {
   "cell_type": "code",
   "execution_count": 33,
   "id": "d4ea931a",
   "metadata": {},
   "outputs": [],
   "source": [
    "topic_model.save(\"95k_10k_per_class_data_microsoft_codebert-base\")"
   ]
  },
  {
   "cell_type": "code",
   "execution_count": 34,
   "id": "6a6a2081-b598-4fb5-998b-a4f7054173dd",
   "metadata": {},
   "outputs": [],
   "source": [
    "viz_df = df[:1000]"
   ]
  },
  {
   "cell_type": "code",
   "execution_count": 23,
   "id": "27404bdb-2c01-4a58-a4b4-c396f6713b46",
   "metadata": {},
   "outputs": [],
   "source": [
    "viz_classes = df['type']\n",
    "viz_docs = df['content']"
   ]
  },
  {
   "cell_type": "code",
   "execution_count": 24,
   "id": "62022587",
   "metadata": {},
   "outputs": [],
   "source": [
    "topic_model = BERTopic.load(\"95k_10k_per_class_data_microsoft_codebert-base\")"
   ]
  },
  {
   "cell_type": "code",
   "execution_count": null,
   "id": "7fd0c027",
   "metadata": {},
   "outputs": [],
   "source": []
  },
  {
   "cell_type": "code",
   "execution_count": 25,
   "id": "438089e5-4624-4405-ba8b-1f6f4ef6f289",
   "metadata": {},
   "outputs": [
    {
     "ename": "NameError",
     "evalue": "name 'topics' is not defined",
     "output_type": "error",
     "traceback": [
      "\u001b[0;31m---------------------------------------------------------------------------\u001b[0m",
      "\u001b[0;31mNameError\u001b[0m                                 Traceback (most recent call last)",
      "\u001b[0;32m<ipython-input-25-a3fecd9374ad>\u001b[0m in \u001b[0;36m<module>\u001b[0;34m\u001b[0m\n\u001b[0;32m----> 1\u001b[0;31m \u001b[0mtopics_per_class\u001b[0m \u001b[0;34m=\u001b[0m \u001b[0mtopic_model\u001b[0m\u001b[0;34m.\u001b[0m\u001b[0mtopics_per_class\u001b[0m\u001b[0;34m(\u001b[0m\u001b[0mviz_docs\u001b[0m\u001b[0;34m,\u001b[0m \u001b[0mtopics\u001b[0m\u001b[0;34m,\u001b[0m \u001b[0mclasses\u001b[0m\u001b[0;34m=\u001b[0m\u001b[0mviz_classes\u001b[0m\u001b[0;34m)\u001b[0m\u001b[0;34m\u001b[0m\u001b[0;34m\u001b[0m\u001b[0m\n\u001b[0m",
      "\u001b[0;31mNameError\u001b[0m: name 'topics' is not defined"
     ]
    }
   ],
   "source": [
    "topics_per_class = topic_model.topics_per_class(viz_docs, topics, classes=viz_classes)"
   ]
  },
  {
   "cell_type": "code",
   "execution_count": 3,
   "id": "c1e2313b-8992-47eb-ae76-cbcb0d585420",
   "metadata": {
    "scrolled": true
   },
   "outputs": [
    {
     "ename": "NameError",
     "evalue": "name 'topics_per_class' is not defined",
     "output_type": "error",
     "traceback": [
      "\u001b[0;31m---------------------------------------------------------------------------\u001b[0m",
      "\u001b[0;31mNameError\u001b[0m                                 Traceback (most recent call last)",
      "\u001b[0;32m<ipython-input-3-9a5a8caaeb39>\u001b[0m in \u001b[0;36m<module>\u001b[0;34m\u001b[0m\n\u001b[0;32m----> 1\u001b[0;31m \u001b[0mfig_unsupervised\u001b[0m \u001b[0;34m=\u001b[0m \u001b[0mtopic_model\u001b[0m\u001b[0;34m.\u001b[0m\u001b[0mvisualize_topics_per_class\u001b[0m\u001b[0;34m(\u001b[0m\u001b[0mtopics_per_class\u001b[0m\u001b[0;34m,\u001b[0m \u001b[0mtop_n_topics\u001b[0m\u001b[0;34m=\u001b[0m\u001b[0;36m100\u001b[0m\u001b[0;34m,\u001b[0m \u001b[0mwidth\u001b[0m\u001b[0;34m=\u001b[0m\u001b[0;36m900\u001b[0m\u001b[0;34m)\u001b[0m\u001b[0;34m\u001b[0m\u001b[0;34m\u001b[0m\u001b[0m\n\u001b[0m\u001b[1;32m      2\u001b[0m \u001b[0mfig_unsupervised\u001b[0m\u001b[0;34m\u001b[0m\u001b[0;34m\u001b[0m\u001b[0m\n",
      "\u001b[0;31mNameError\u001b[0m: name 'topics_per_class' is not defined"
     ]
    }
   ],
   "source": [
    "fig_unsupervised = topic_model.visualize_topics_per_class(topics_per_class, top_n_topics=100, width=900)\n",
    "fig_unsupervised"
   ]
  },
  {
   "cell_type": "code",
   "execution_count": 80,
   "id": "1b11c6db",
   "metadata": {},
   "outputs": [
    {
     "data": {
      "text/html": [
       "<div>\n",
       "<style scoped>\n",
       "    .dataframe tbody tr th:only-of-type {\n",
       "        vertical-align: middle;\n",
       "    }\n",
       "\n",
       "    .dataframe tbody tr th {\n",
       "        vertical-align: top;\n",
       "    }\n",
       "\n",
       "    .dataframe thead th {\n",
       "        text-align: right;\n",
       "    }\n",
       "</style>\n",
       "<table border=\"1\" class=\"dataframe\">\n",
       "  <thead>\n",
       "    <tr style=\"text-align: right;\">\n",
       "      <th></th>\n",
       "      <th>Topic</th>\n",
       "      <th>Words</th>\n",
       "      <th>Frequency</th>\n",
       "      <th>Class</th>\n",
       "      <th>Name</th>\n",
       "    </tr>\n",
       "  </thead>\n",
       "  <tbody>\n",
       "    <tr>\n",
       "      <th>49</th>\n",
       "      <td>113</td>\n",
       "      <td>unlike, predefined, builds, scss, webpack</td>\n",
       "      <td>2</td>\n",
       "      <td>ts</td>\n",
       "      <td>113_precompiled_subsonic_knesset_httpwar...</td>\n",
       "    </tr>\n",
       "    <tr>\n",
       "      <th>252</th>\n",
       "      <td>113</td>\n",
       "      <td>assemblytitle, reflection, following, modify, ...</td>\n",
       "      <td>1</td>\n",
       "      <td>cs</td>\n",
       "      <td>113_precompiled_subsonic_knesset_httpwar...</td>\n",
       "    </tr>\n",
       "    <tr>\n",
       "      <th>468</th>\n",
       "      <td>113</td>\n",
       "      <td>subsonic, precompiled, bobblehat, netflow1, el...</td>\n",
       "      <td>46</td>\n",
       "      <td>go</td>\n",
       "      <td>113_precompiled_subsonic_knesset_httpwar...</td>\n",
       "    </tr>\n",
       "    <tr>\n",
       "      <th>584</th>\n",
       "      <td>113</td>\n",
       "      <td>knesset, protocols, dataservice, chunked_uploa...</td>\n",
       "      <td>14</td>\n",
       "      <td>py</td>\n",
       "      <td>113_precompiled_subsonic_knesset_httpwar...</td>\n",
       "    </tr>\n",
       "    <tr>\n",
       "      <th>1036</th>\n",
       "      <td>113</td>\n",
       "      <td>playground, precompiled, automatically, boolpl...</td>\n",
       "      <td>12</td>\n",
       "      <td>swift</td>\n",
       "      <td>113_precompiled_subsonic_knesset_httpwar...</td>\n",
       "    </tr>\n",
       "    <tr>\n",
       "      <th>1418</th>\n",
       "      <td>113</td>\n",
       "      <td>kahuna, mesosphere, tutorials, signatures, key...</td>\n",
       "      <td>4</td>\n",
       "      <td>js</td>\n",
       "      <td>113_precompiled_subsonic_knesset_httpwar...</td>\n",
       "    </tr>\n",
       "    <tr>\n",
       "      <th>1692</th>\n",
       "      <td>113</td>\n",
       "      <td>repositorysymbols, arcanist, t8691, t8697, 201...</td>\n",
       "      <td>2</td>\n",
       "      <td>php</td>\n",
       "      <td>113_precompiled_subsonic_knesset_httpwar...</td>\n",
       "    </tr>\n",
       "    <tr>\n",
       "      <th>2006</th>\n",
       "      <td>113</td>\n",
       "      <td>internally, temporary, attached, playground, p...</td>\n",
       "      <td>1</td>\n",
       "      <td>html</td>\n",
       "      <td>113_precompiled_subsonic_knesset_httpwar...</td>\n",
       "    </tr>\n",
       "    <tr>\n",
       "      <th>2233</th>\n",
       "      <td>113</td>\n",
       "      <td>compass, playground, cpm, precompiled, buford</td>\n",
       "      <td>1</td>\n",
       "      <td>rb</td>\n",
       "      <td>113_precompiled_subsonic_knesset_httpwar...</td>\n",
       "    </tr>\n",
       "  </tbody>\n",
       "</table>\n",
       "</div>"
      ],
      "text/plain": [
       "      Topic                                              Words  Frequency  \\\n",
       "49      113          unlike, predefined, builds, scss, webpack          2   \n",
       "252     113  assemblytitle, reflection, following, modify, ...          1   \n",
       "468     113  subsonic, precompiled, bobblehat, netflow1, el...         46   \n",
       "584     113  knesset, protocols, dataservice, chunked_uploa...         14   \n",
       "1036    113  playground, precompiled, automatically, boolpl...         12   \n",
       "1418    113  kahuna, mesosphere, tutorials, signatures, key...          4   \n",
       "1692    113  repositorysymbols, arcanist, t8691, t8697, 201...          2   \n",
       "2006    113  internally, temporary, attached, playground, p...          1   \n",
       "2233    113      compass, playground, cpm, precompiled, buford          1   \n",
       "\n",
       "      Class                                         Name  \n",
       "49       ts  113_precompiled_subsonic_knesset_httpwar...  \n",
       "252      cs  113_precompiled_subsonic_knesset_httpwar...  \n",
       "468      go  113_precompiled_subsonic_knesset_httpwar...  \n",
       "584      py  113_precompiled_subsonic_knesset_httpwar...  \n",
       "1036  swift  113_precompiled_subsonic_knesset_httpwar...  \n",
       "1418     js  113_precompiled_subsonic_knesset_httpwar...  \n",
       "1692    php  113_precompiled_subsonic_knesset_httpwar...  \n",
       "2006   html  113_precompiled_subsonic_knesset_httpwar...  \n",
       "2233     rb  113_precompiled_subsonic_knesset_httpwar...  "
      ]
     },
     "execution_count": 80,
     "metadata": {},
     "output_type": "execute_result"
    }
   ],
   "source": []
  },
  {
   "cell_type": "code",
   "execution_count": 66,
   "id": "a32ea3a4-f127-40ed-9518-941b9cf5cab0",
   "metadata": {},
   "outputs": [
    {
     "data": {
      "text/plain": [
       "([73, -1, 536, 563, 549],\n",
       " [0.826283986756915,\n",
       "  0.8187324343429478,\n",
       "  0.8107601742197176,\n",
       "  0.8090353504647835,\n",
       "  0.8042859563548455])"
      ]
     },
     "execution_count": 66,
     "metadata": {},
     "output_type": "execute_result"
    }
   ],
   "source": [
    "topic_model.find_topics(\"django\")"
   ]
  },
  {
   "cell_type": "code",
   "execution_count": 69,
   "id": "63272150",
   "metadata": {},
   "outputs": [
    {
     "data": {
      "text/plain": [
       "[('sqlite3', 0.011698670708952558),\n",
       " ('engine django', 0.011126440785544343),\n",
       " ('getattr settings', 0.01101886132077499),\n",
       " ('db backends', 0.010750031349267003),\n",
       " ('os environ', 0.008782982832304526),\n",
       " ('backends sqlite3', 0.008701782012700781),\n",
       " ('django contrib', 0.008228007341104257),\n",
       " ('sqlalchemy_database_uri', 0.00667962246598507),\n",
       " ('django db', 0.005869162928857176),\n",
       " ('sqlite3 name', 0.005529970098974824)]"
      ]
     },
     "execution_count": 69,
     "metadata": {},
     "output_type": "execute_result"
    }
   ],
   "source": [
    "topic_model.get_topic(73)"
   ]
  },
  {
   "cell_type": "code",
   "execution_count": 59,
   "id": "e4571f79",
   "metadata": {},
   "outputs": [],
   "source": [
    "new_doc = \"\"\"\n",
    "import WebKit\n",
    "\n",
    "protocol GithubWebViewProtocol: UIViewController {\n",
    "    func close()\n",
    "    func loadWebView(with: URLRequest)\n",
    "}\n",
    "\n",
    "final class GithubWebView: UIViewController, WKNavigationDelegate, GithubWebViewProtocol {\n",
    "\n",
    "    // MARK: - Components & vars\n",
    "\n",
    "    var presenter: GithubWebPresenterProtocol?\n",
    "\n",
    "    lazy var webView: WKWebView = {\n",
    "        let webView = WKWebView()\n",
    "        webView.navigationDelegate = self\n",
    "        return webView\n",
    "    }()\n",
    "\n",
    "    // MARK: - Lifecycle\n",
    "\n",
    "    override func loadView() {\n",
    "        view = webView\n",
    "    }\n",
    "\n",
    "    override func viewDidLoad() {\n",
    "        super.viewDidLoad()\n",
    "        presenter?.viewLoaded()\n",
    "    }\n",
    "\n",
    "    // MARK: - GithubWebViewProtocol\n",
    "\n",
    "    func close() {\n",
    "        dismiss(animated: true, completion: nil)\n",
    "    }\n",
    "\n",
    "    func loadWebView(with request: URLRequest) {\n",
    "        webView.load(request)\n",
    "    }\n",
    "\n",
    "    // MARK: - WKNavigationDelegate\n",
    "\n",
    "    func webView(\n",
    "        _: WKWebView,\n",
    "        decidePolicyFor navigationAction: WKNavigationAction,\n",
    "        decisionHandler: @escaping (WKNavigationActionPolicy) -> Void)\n",
    "    {\n",
    "        presenter?.requestForCallbackURL(request: navigationAction.request)\n",
    "        decisionHandler(.allow)\n",
    "    }\n",
    "}\n",
    "\"\"\""
   ]
  },
  {
   "cell_type": "code",
   "execution_count": 60,
   "id": "b6ea2b3c",
   "metadata": {},
   "outputs": [
    {
     "name": "stdout",
     "output_type": "stream",
     "text": [
      "final class GithubWebView: UIViewController, WKNavigationDelegate, GithubWebViewProtocol {\n"
     ]
    }
   ],
   "source": [
    "print(new_doc.split('\\n\\n')[2])"
   ]
  },
  {
   "cell_type": "code",
   "execution_count": 61,
   "id": "d598de87",
   "metadata": {},
   "outputs": [
    {
     "data": {
      "text/plain": [
       "53"
      ]
     },
     "execution_count": 61,
     "metadata": {},
     "output_type": "execute_result"
    }
   ],
   "source": [
    "len(new_doc.split('\\n'))"
   ]
  },
  {
   "cell_type": "code",
   "execution_count": 62,
   "id": "9404b309",
   "metadata": {},
   "outputs": [
    {
     "data": {
      "application/vnd.jupyter.widget-view+json": {
       "model_id": "ce895ba5bc884c0db3f8c66c3206a16b",
       "version_major": 2,
       "version_minor": 0
      },
      "text/plain": [
       "Batches:   0%|          | 0/2 [00:00<?, ?it/s]"
      ]
     },
     "metadata": {},
     "output_type": "display_data"
    }
   ],
   "source": [
    "topics = topic_model.transform(new_doc.split('\\n'))"
   ]
  },
  {
   "cell_type": "code",
   "execution_count": 63,
   "id": "30ef07b2",
   "metadata": {},
   "outputs": [
    {
     "data": {
      "text/html": [
       "<div>\n",
       "<style scoped>\n",
       "    .dataframe tbody tr th:only-of-type {\n",
       "        vertical-align: middle;\n",
       "    }\n",
       "\n",
       "    .dataframe tbody tr th {\n",
       "        vertical-align: top;\n",
       "    }\n",
       "\n",
       "    .dataframe thead th {\n",
       "        text-align: right;\n",
       "    }\n",
       "</style>\n",
       "<table border=\"1\" class=\"dataframe\">\n",
       "  <thead>\n",
       "    <tr style=\"text-align: right;\">\n",
       "      <th></th>\n",
       "      <th>Topic</th>\n",
       "      <th>Words</th>\n",
       "      <th>Frequency</th>\n",
       "      <th>Class</th>\n",
       "      <th>Name</th>\n",
       "    </tr>\n",
       "  </thead>\n",
       "  <tbody>\n",
       "    <tr>\n",
       "      <th>375</th>\n",
       "      <td>503</td>\n",
       "      <td>export from, from base, from structure, from s...</td>\n",
       "      <td>23</td>\n",
       "      <td>ts</td>\n",
       "      <td>503_export from_from base_from class_fro...</td>\n",
       "    </tr>\n",
       "    <tr>\n",
       "      <th>576</th>\n",
       "      <td>503</td>\n",
       "      <td>js export, export from, validators appcache, e...</td>\n",
       "      <td>1</td>\n",
       "      <td>js</td>\n",
       "      <td>503_export from_from base_from class_fro...</td>\n",
       "    </tr>\n",
       "  </tbody>\n",
       "</table>\n",
       "</div>"
      ],
      "text/plain": [
       "     Topic                                              Words  Frequency  \\\n",
       "375    503  export from, from base, from structure, from s...         23   \n",
       "576    503  js export, export from, validators appcache, e...          1   \n",
       "\n",
       "    Class                                         Name  \n",
       "375    ts  503_export from_from base_from class_fro...  \n",
       "576    js  503_export from_from base_from class_fro...  "
      ]
     },
     "execution_count": 63,
     "metadata": {},
     "output_type": "execute_result"
    }
   ],
   "source": [
    "topics_per_class[ topics_per_class[\"Topic\"] == 503]"
   ]
  },
  {
   "cell_type": "code",
   "execution_count": 64,
   "id": "263c0daa",
   "metadata": {
    "scrolled": true
   },
   "outputs": [
    {
     "data": {
      "text/plain": [
       "([-1,\n",
       "  -1,\n",
       "  -1,\n",
       "  0,\n",
       "  96,\n",
       "  -1,\n",
       "  -1,\n",
       "  -1,\n",
       "  0,\n",
       "  -1,\n",
       "  724,\n",
       "  -1,\n",
       "  0,\n",
       "  -1,\n",
       "  -1,\n",
       "  0,\n",
       "  -1,\n",
       "  -1,\n",
       "  -1,\n",
       "  -1,\n",
       "  280,\n",
       "  -1,\n",
       "  -1,\n",
       "  -1,\n",
       "  -1,\n",
       "  -1,\n",
       "  -1,\n",
       "  40,\n",
       "  -1,\n",
       "  -1,\n",
       "  -1,\n",
       "  280,\n",
       "  -1,\n",
       "  -1,\n",
       "  25,\n",
       "  -1,\n",
       "  -1,\n",
       "  -1,\n",
       "  -1,\n",
       "  -1,\n",
       "  -1,\n",
       "  98,\n",
       "  -1,\n",
       "  -1,\n",
       "  -1,\n",
       "  -1,\n",
       "  -1,\n",
       "  -1,\n",
       "  -1,\n",
       "  40,\n",
       "  -1,\n",
       "  -1,\n",
       "  -1],\n",
       " None)"
      ]
     },
     "execution_count": 64,
     "metadata": {},
     "output_type": "execute_result"
    }
   ],
   "source": [
    "topics"
   ]
  },
  {
   "cell_type": "code",
   "execution_count": 65,
   "id": "4a4f34f6",
   "metadata": {},
   "outputs": [
    {
     "name": "stdout",
     "output_type": "stream",
     "text": [
      "Topic 96\n",
      "[('string return', 0.021375771075808455), ('name string', 0.00997423219033105), ('string func', 0.008074658086666036), ('string string', 0.00747562252744475), ('return fmt', 0.007319313716841196), ('struct stmtbase', 0.00716583276494525), ('struct func', 0.006494404924042897), ('key string', 0.006184946365478928), ('string error', 0.0058951442884542385), ('return func', 0.005260826679552172)] \n",
      "\n",
      "Topic 724\n",
      "[('es5 experimentaldecorators', 0.10766610816485529), ('propertykey string', 0.10245373946428928), ('experimentaldecorators true', 0.09652836210153948), ('target es5', 0.08134775558346714), ('any propertykey', 0.06281076119267102), ('typedpropertydescriptor', 0.061523490379917306), ('dec class', 0.03599248827344662), ('function propertykey', 0.03599248827344662), ('any param5', 0.03599248827344662), ('symbol parameterindex', 0.03599248827344662)] \n",
      "\n",
      "Topic 280\n",
      "[('awselasticloadbalancingversionstring', 0.009248607866981541), ('awselasticloadbalancingversionnumber foundation_export', 0.009248607866981541), ('double asweekselectorviewversionnumber', 0.009248607866981541), ('char awselasticloadbalancingversionstring', 0.009248607866981541), ('double awselasticloadbalancingversionnumber', 0.009248607866981541), ('nsnotificationcentermockversionnumber', 0.009248607866981541), ('nsnotificationcentermockversionnumber foundation_export', 0.009248607866981541), ('edkeyboardhandlerversionstring import', 0.009248607866981541), ('char asweekselectorviewversionstring', 0.009248607866981541), ('edkeyboardhandlerversionnumber foundation_export', 0.009248607866981541)] \n",
      "\n",
      "Topic 40\n",
      "[('ioexception', 0.015161343050449113), ('java io', 0.014167880463527948), ('import java', 0.014014297173537364), ('throws ioexception', 0.010339550526116691), ('ioexception package', 0.010118984110230541), ('io ioexception', 0.009405977104335812), ('ioexception import', 0.007201295673751319), ('org workcraft', 0.006362505104625363), ('ioexception public', 0.006145359376340614), ('repack org', 0.00509258102379528)] \n",
      "\n",
      "Topic 280\n",
      "[('awselasticloadbalancingversionstring', 0.009248607866981541), ('awselasticloadbalancingversionnumber foundation_export', 0.009248607866981541), ('double asweekselectorviewversionnumber', 0.009248607866981541), ('char awselasticloadbalancingversionstring', 0.009248607866981541), ('double awselasticloadbalancingversionnumber', 0.009248607866981541), ('nsnotificationcentermockversionnumber', 0.009248607866981541), ('nsnotificationcentermockversionnumber foundation_export', 0.009248607866981541), ('edkeyboardhandlerversionstring import', 0.009248607866981541), ('char asweekselectorviewversionstring', 0.009248607866981541), ('edkeyboardhandlerversionnumber foundation_export', 0.009248607866981541)] \n",
      "\n",
      "Topic 25\n",
      "[('def change', 0.09669479180750055), ('change add_column', 0.09519606724620565), ('add_column', 0.07093645110101887), ('add_column users', 0.01833260500061181), ('change add_index', 0.01263806510167893), ('change remove_column', 0.01107432979177927), ('boolean end', 0.010701935948208178), ('change change_column', 0.009590849889852362), ('datetime end', 0.008004062953371737), ('change rename_column', 0.007862176075739408)] \n",
      "\n",
      "Topic 98\n",
      "[('options warnaserror', 0.0186655521343665), ('warnaserror warn', 0.017732274527648174), ('clsclass', 0.01475055364213533), ('class static', 0.012357158328795694), ('line class', 0.012326309194207479), ('clscompliant', 0.012248116850293249), ('system class', 0.01101233025318564), ('cls compliant', 0.010437342606902435), ('clscompliant true', 0.010236407652691919), ('not cls', 0.008475359291009905)] \n",
      "\n",
      "Topic 40\n",
      "[('ioexception', 0.015161343050449113), ('java io', 0.014167880463527948), ('import java', 0.014014297173537364), ('throws ioexception', 0.010339550526116691), ('ioexception package', 0.010118984110230541), ('io ioexception', 0.009405977104335812), ('ioexception import', 0.007201295673751319), ('org workcraft', 0.006362505104625363), ('ioexception public', 0.006145359376340614), ('repack org', 0.00509258102379528)] \n",
      "\n"
     ]
    }
   ],
   "source": [
    "for topic in topics[0]:\n",
    "    if topic > 0:\n",
    "        print(\"Topic\", topic)\n",
    "        print(topic_model.get_topic(topic), \"\\n\")"
   ]
  },
  {
   "cell_type": "code",
   "execution_count": null,
   "id": "5c512db0",
   "metadata": {},
   "outputs": [],
   "source": []
  }
 ],
 "metadata": {
  "kernelspec": {
   "display_name": "Python 3",
   "language": "python",
   "name": "python3"
  },
  "language_info": {
   "codemirror_mode": {
    "name": "ipython",
    "version": 3
   },
   "file_extension": ".py",
   "mimetype": "text/x-python",
   "name": "python",
   "nbconvert_exporter": "python",
   "pygments_lexer": "ipython3",
   "version": "3.7.10"
  }
 },
 "nbformat": 4,
 "nbformat_minor": 5
}
