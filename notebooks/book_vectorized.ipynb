{
 "cells": [
  {
   "cell_type": "code",
   "execution_count": 46,
   "id": "9e53eb26",
   "metadata": {},
   "outputs": [],
   "source": [
    "import pandas as pd\n",
    "import glob\n",
    "import numpy as np"
   ]
  },
  {
   "cell_type": "code",
   "execution_count": 47,
   "id": "42cbea4a",
   "metadata": {},
   "outputs": [],
   "source": [
    "df = pd.read_csv(\"./new_book_1.csv\")\n",
    "df = df.drop(['Unnamed: 0'], axis=1)\n",
    "df = df.dropna()\n",
    "df = df.reset_index(drop=True)\n",
    "df = df.drop_duplicates(subset=\"title\")\n",
    "df = df.reset_index(drop=True)"
   ]
  },
  {
   "cell_type": "code",
   "execution_count": 48,
   "id": "3548bd02",
   "metadata": {},
   "outputs": [
    {
     "data": {
      "text/html": [
       "<div>\n",
       "<style scoped>\n",
       "    .dataframe tbody tr th:only-of-type {\n",
       "        vertical-align: middle;\n",
       "    }\n",
       "\n",
       "    .dataframe tbody tr th {\n",
       "        vertical-align: top;\n",
       "    }\n",
       "\n",
       "    .dataframe thead th {\n",
       "        text-align: right;\n",
       "    }\n",
       "</style>\n",
       "<table border=\"1\" class=\"dataframe\">\n",
       "  <thead>\n",
       "    <tr style=\"text-align: right;\">\n",
       "      <th></th>\n",
       "      <th>title</th>\n",
       "      <th>desc</th>\n",
       "      <th>img</th>\n",
       "    </tr>\n",
       "  </thead>\n",
       "  <tbody>\n",
       "    <tr>\n",
       "      <th>0</th>\n",
       "      <td>HTML, CSS, SCRATCH, PYTHON. Моя первая книга п...</td>\n",
       "      <td>Описание\\nХотите научиться создавать программы...</td>\n",
       "      <td>https://cdn1.ozone.ru/s3/multimedia-q/wc200/60...</td>\n",
       "    </tr>\n",
       "    <tr>\n",
       "      <th>1</th>\n",
       "      <td>Учим Python, делая крутые игры | Свейгарт Эл</td>\n",
       "      <td>Описание\\nНе играй в игры - создавай их! Эта к...</td>\n",
       "      <td>https://cdn1.ozone.ru/s3/multimedia-j/wc1200/6...</td>\n",
       "    </tr>\n",
       "    <tr>\n",
       "      <th>2</th>\n",
       "      <td>Изучаем C++ через программирование игр Доусон ...</td>\n",
       "      <td>Описание\\nЕсли вы хотите научиться программиро...</td>\n",
       "      <td>https://cdn1.ozone.ru/s3/multimedia-6/wc1200/6...</td>\n",
       "    </tr>\n",
       "    <tr>\n",
       "      <th>3</th>\n",
       "      <td>Язык программирования C | Ритчи Деннис М., Кер...</td>\n",
       "      <td>Описание\\nКлассическая книга по языку C, напис...</td>\n",
       "      <td>https://cdn1.ozone.ru/multimedia/wc1200/102799...</td>\n",
       "    </tr>\n",
       "    <tr>\n",
       "      <th>4</th>\n",
       "      <td>Основы Python. Научитесь думать как программис...</td>\n",
       "      <td>Описание\\n\"Практическое руководство по основам...</td>\n",
       "      <td>https://cdn1.ozone.ru/s3/multimedia-0/wc1200/6...</td>\n",
       "    </tr>\n",
       "    <tr>\n",
       "      <th>...</th>\n",
       "      <td>...</td>\n",
       "      <td>...</td>\n",
       "      <td>...</td>\n",
       "    </tr>\n",
       "    <tr>\n",
       "      <th>150</th>\n",
       "      <td>C/C++. Структурное программирование. Практикум</td>\n",
       "      <td>Описание\\nВ практикуме на примерах рассматрива...</td>\n",
       "      <td>https://cdn1.ozone.ru/s3/multimedia-s/wc1200/6...</td>\n",
       "    </tr>\n",
       "    <tr>\n",
       "      <th>151</th>\n",
       "      <td>Разработка приложений под iPhone. Полное руков...</td>\n",
       "      <td>Описание\\nНаучиться писать приложения для iPho...</td>\n",
       "      <td>https://cdn1.ozone.ru/multimedia/wc1200/100214...</td>\n",
       "    </tr>\n",
       "    <tr>\n",
       "      <th>152</th>\n",
       "      <td>С/С++. Процедурное программирование</td>\n",
       "      <td>Описание\\nПодробно рассмотрены процедурные воз...</td>\n",
       "      <td>https://cdn1.ozone.ru/multimedia/wc1200/100766...</td>\n",
       "    </tr>\n",
       "    <tr>\n",
       "      <th>153</th>\n",
       "      <td>Профессиональная разработка на Python</td>\n",
       "      <td>Описание\\nВ книге описаны современные передовы...</td>\n",
       "      <td>https://cdn1.ozone.ru/s3/multimedia-y/wc1200/6...</td>\n",
       "    </tr>\n",
       "    <tr>\n",
       "      <th>154</th>\n",
       "      <td>Angular на примерах. Создаем web-приложения с ...</td>\n",
       "      <td>Описание\\nЭта книга является практическим руко...</td>\n",
       "      <td>https://cdn1.ozone.ru/s3/multimedia-2/wc1200/6...</td>\n",
       "    </tr>\n",
       "  </tbody>\n",
       "</table>\n",
       "<p>155 rows × 3 columns</p>\n",
       "</div>"
      ],
      "text/plain": [
       "                                                 title  \\\n",
       "0    HTML, CSS, SCRATCH, PYTHON. Моя первая книга п...   \n",
       "1         Учим Python, делая крутые игры | Свейгарт Эл   \n",
       "2    Изучаем C++ через программирование игр Доусон ...   \n",
       "3    Язык программирования C | Ритчи Деннис М., Кер...   \n",
       "4    Основы Python. Научитесь думать как программис...   \n",
       "..                                                 ...   \n",
       "150     C/C++. Структурное программирование. Практикум   \n",
       "151  Разработка приложений под iPhone. Полное руков...   \n",
       "152                С/С++. Процедурное программирование   \n",
       "153              Профессиональная разработка на Python   \n",
       "154  Angular на примерах. Создаем web-приложения с ...   \n",
       "\n",
       "                                                  desc  \\\n",
       "0    Описание\\nХотите научиться создавать программы...   \n",
       "1    Описание\\nНе играй в игры - создавай их! Эта к...   \n",
       "2    Описание\\nЕсли вы хотите научиться программиро...   \n",
       "3    Описание\\nКлассическая книга по языку C, напис...   \n",
       "4    Описание\\n\"Практическое руководство по основам...   \n",
       "..                                                 ...   \n",
       "150  Описание\\nВ практикуме на примерах рассматрива...   \n",
       "151  Описание\\nНаучиться писать приложения для iPho...   \n",
       "152  Описание\\nПодробно рассмотрены процедурные воз...   \n",
       "153  Описание\\nВ книге описаны современные передовы...   \n",
       "154  Описание\\nЭта книга является практическим руко...   \n",
       "\n",
       "                                                   img  \n",
       "0    https://cdn1.ozone.ru/s3/multimedia-q/wc200/60...  \n",
       "1    https://cdn1.ozone.ru/s3/multimedia-j/wc1200/6...  \n",
       "2    https://cdn1.ozone.ru/s3/multimedia-6/wc1200/6...  \n",
       "3    https://cdn1.ozone.ru/multimedia/wc1200/102799...  \n",
       "4    https://cdn1.ozone.ru/s3/multimedia-0/wc1200/6...  \n",
       "..                                                 ...  \n",
       "150  https://cdn1.ozone.ru/s3/multimedia-s/wc1200/6...  \n",
       "151  https://cdn1.ozone.ru/multimedia/wc1200/100214...  \n",
       "152  https://cdn1.ozone.ru/multimedia/wc1200/100766...  \n",
       "153  https://cdn1.ozone.ru/s3/multimedia-y/wc1200/6...  \n",
       "154  https://cdn1.ozone.ru/s3/multimedia-2/wc1200/6...  \n",
       "\n",
       "[155 rows x 3 columns]"
      ]
     },
     "execution_count": 48,
     "metadata": {},
     "output_type": "execute_result"
    }
   ],
   "source": [
    "df"
   ]
  },
  {
   "cell_type": "code",
   "execution_count": 49,
   "id": "2fd20a9c",
   "metadata": {},
   "outputs": [],
   "source": [
    "from tqdm.contrib.concurrent import process_map  # or thread_map"
   ]
  },
  {
   "cell_type": "code",
   "execution_count": 50,
   "id": "fba51ce5",
   "metadata": {},
   "outputs": [],
   "source": [
    "from nltk.corpus import stopwords\n",
    "import re\n",
    "def clean_dataset(senteces):\n",
    "    text = senteces.lower()\n",
    "    text = re.findall(r'\\w+', text)\n",
    "    tokenize = [i for i in text if not i.isdigit()]\n",
    "    tokenize = [word for word in tokenize if not word in stopwords.words()]\n",
    "    text = ' '.join(tokenize)\n",
    "    return text"
   ]
  },
  {
   "cell_type": "code",
   "execution_count": 51,
   "id": "49073a86",
   "metadata": {},
   "outputs": [
    {
     "data": {
      "application/vnd.jupyter.widget-view+json": {
       "model_id": "e3feb06584364815a4511a073a552c71",
       "version_major": 2,
       "version_minor": 0
      },
      "text/plain": [
       "  0%|          | 0/155 [00:00<?, ?it/s]"
      ]
     },
     "metadata": {},
     "output_type": "display_data"
    }
   ],
   "source": [
    "desc_book = process_map(clean_dataset, list(df['desc']), max_workers=6)"
   ]
  },
  {
   "cell_type": "code",
   "execution_count": 52,
   "id": "8a9d439f",
   "metadata": {},
   "outputs": [],
   "source": [
    "from sentence_transformers import SentenceTransformer\n",
    "model = SentenceTransformer('quora-distilbert-multilingual')"
   ]
  },
  {
   "cell_type": "code",
   "execution_count": 53,
   "id": "ea981b10",
   "metadata": {},
   "outputs": [],
   "source": [
    "embeddings_course = model.encode(desc_book)"
   ]
  },
  {
   "cell_type": "code",
   "execution_count": 54,
   "id": "44428191",
   "metadata": {},
   "outputs": [],
   "source": [
    "df['embd'] = list(embeddings_course)"
   ]
  },
  {
   "cell_type": "code",
   "execution_count": 55,
   "id": "eed7bb35",
   "metadata": {},
   "outputs": [],
   "source": [
    "df = df.drop(['desc'], axis=1)"
   ]
  },
  {
   "cell_type": "code",
   "execution_count": 56,
   "id": "394aef43",
   "metadata": {},
   "outputs": [],
   "source": [
    "dat = df.to_dict()"
   ]
  },
  {
   "cell_type": "code",
   "execution_count": 57,
   "id": "71bc8a9f",
   "metadata": {},
   "outputs": [],
   "source": [
    "import pickle"
   ]
  },
  {
   "cell_type": "code",
   "execution_count": 58,
   "id": "ee1876d7",
   "metadata": {},
   "outputs": [],
   "source": [
    "with open('./dat_book.pickle', 'wb') as f:\n",
    "    pickle.dump(dat, f)"
   ]
  },
  {
   "cell_type": "code",
   "execution_count": 59,
   "id": "c882df93",
   "metadata": {},
   "outputs": [
    {
     "data": {
      "text/html": [
       "<div>\n",
       "<style scoped>\n",
       "    .dataframe tbody tr th:only-of-type {\n",
       "        vertical-align: middle;\n",
       "    }\n",
       "\n",
       "    .dataframe tbody tr th {\n",
       "        vertical-align: top;\n",
       "    }\n",
       "\n",
       "    .dataframe thead th {\n",
       "        text-align: right;\n",
       "    }\n",
       "</style>\n",
       "<table border=\"1\" class=\"dataframe\">\n",
       "  <thead>\n",
       "    <tr style=\"text-align: right;\">\n",
       "      <th></th>\n",
       "      <th>Ids</th>\n",
       "      <th>Employer</th>\n",
       "      <th>Name</th>\n",
       "      <th>Salary</th>\n",
       "      <th>From</th>\n",
       "      <th>To</th>\n",
       "      <th>Experience</th>\n",
       "      <th>Schedule</th>\n",
       "      <th>Keys</th>\n",
       "      <th>Description</th>\n",
       "    </tr>\n",
       "  </thead>\n",
       "  <tbody>\n",
       "    <tr>\n",
       "      <th>0</th>\n",
       "      <td>44691569</td>\n",
       "      <td>FaceOut</td>\n",
       "      <td>IOS разработчик в стартап</td>\n",
       "      <td>False</td>\n",
       "      <td>NaN</td>\n",
       "      <td>NaN</td>\n",
       "      <td>От 3 до 6 лет</td>\n",
       "      <td>Удаленная работа</td>\n",
       "      <td>['Разработка ПО', 'Scrum', 'Start-up project',...</td>\n",
       "      <td>Мы – опытная команда фаундеров из Кремниевой Д...</td>\n",
       "    </tr>\n",
       "    <tr>\n",
       "      <th>1</th>\n",
       "      <td>44725803</td>\n",
       "      <td>FaceOut</td>\n",
       "      <td>Мобильный разработчик iOS &amp; Android</td>\n",
       "      <td>False</td>\n",
       "      <td>NaN</td>\n",
       "      <td>NaN</td>\n",
       "      <td>От 3 до 6 лет</td>\n",
       "      <td>Удаленная работа</td>\n",
       "      <td>['Android', 'Разработка ПО', 'Android SDK', 'S...</td>\n",
       "      <td>Мы – опытная команда фаундеров из Кремниевой Д...</td>\n",
       "    </tr>\n",
       "    <tr>\n",
       "      <th>2</th>\n",
       "      <td>44965540</td>\n",
       "      <td>Mail.ru Group</td>\n",
       "      <td>IOS-разработчик (Почта)</td>\n",
       "      <td>False</td>\n",
       "      <td>NaN</td>\n",
       "      <td>NaN</td>\n",
       "      <td>От 3 до 6 лет</td>\n",
       "      <td>Полный день</td>\n",
       "      <td>['iOS']</td>\n",
       "      <td>Мобильная Почта стартовала в 2012 году и включ...</td>\n",
       "    </tr>\n",
       "    <tr>\n",
       "      <th>3</th>\n",
       "      <td>45193826</td>\n",
       "      <td>Wheely</td>\n",
       "      <td>Senior iOS Developer, Chauffeur Experience</td>\n",
       "      <td>False</td>\n",
       "      <td>NaN</td>\n",
       "      <td>NaN</td>\n",
       "      <td>От 3 до 6 лет</td>\n",
       "      <td>Полный день</td>\n",
       "      <td>['Swift', 'Reactive Swift', 'Cocoapods']</td>\n",
       "      <td>Wheely is a ride-hailing app recognized for it...</td>\n",
       "    </tr>\n",
       "    <tr>\n",
       "      <th>4</th>\n",
       "      <td>44128979</td>\n",
       "      <td>Авито</td>\n",
       "      <td>IOS разработчик (Юнит Speed)</td>\n",
       "      <td>False</td>\n",
       "      <td>NaN</td>\n",
       "      <td>NaN</td>\n",
       "      <td>От 3 до 6 лет</td>\n",
       "      <td>Полный день</td>\n",
       "      <td>['Mac Os', 'Swift', 'CI/CD', 'CI', 'UI']</td>\n",
       "      <td>Мы бережём здоровье сотрудников, поэтому на вр...</td>\n",
       "    </tr>\n",
       "    <tr>\n",
       "      <th>...</th>\n",
       "      <td>...</td>\n",
       "      <td>...</td>\n",
       "      <td>...</td>\n",
       "      <td>...</td>\n",
       "      <td>...</td>\n",
       "      <td>...</td>\n",
       "      <td>...</td>\n",
       "      <td>...</td>\n",
       "      <td>...</td>\n",
       "      <td>...</td>\n",
       "    </tr>\n",
       "    <tr>\n",
       "      <th>606</th>\n",
       "      <td>45381832</td>\n",
       "      <td>Туту.ру</td>\n",
       "      <td>IOS-разработчик в продукт Отели</td>\n",
       "      <td>False</td>\n",
       "      <td>NaN</td>\n",
       "      <td>NaN</td>\n",
       "      <td>От 1 года до 3 лет</td>\n",
       "      <td>Полный день</td>\n",
       "      <td>['Git', 'Управление проектами', 'Atlassian Jir...</td>\n",
       "      <td>Tutu.ru — онлайн-сервис для путешествий, котор...</td>\n",
       "    </tr>\n",
       "    <tr>\n",
       "      <th>607</th>\n",
       "      <td>45380613</td>\n",
       "      <td>Туту.ру</td>\n",
       "      <td>IOS-разработчик в команду выдачи</td>\n",
       "      <td>False</td>\n",
       "      <td>NaN</td>\n",
       "      <td>NaN</td>\n",
       "      <td>От 1 года до 3 лет</td>\n",
       "      <td>Полный день</td>\n",
       "      <td>['Git', 'Rx', 'Atlassian Jira', 'Swift', 'Coco...</td>\n",
       "      <td>Транспортная выдача Туту.ру — это весь слой, с...</td>\n",
       "    </tr>\n",
       "    <tr>\n",
       "      <th>608</th>\n",
       "      <td>45312779</td>\n",
       "      <td>iHerb</td>\n",
       "      <td>Senior iOS Developer</td>\n",
       "      <td>False</td>\n",
       "      <td>NaN</td>\n",
       "      <td>NaN</td>\n",
       "      <td>От 3 до 6 лет</td>\n",
       "      <td>Полный день</td>\n",
       "      <td>['Objective-C', 'Swift', 'iOS', 'JSON API', 'R...</td>\n",
       "      <td>Job Summary: The Sr. iOS Developer will work d...</td>\n",
       "    </tr>\n",
       "    <tr>\n",
       "      <th>609</th>\n",
       "      <td>45297811</td>\n",
       "      <td>Luxoft</td>\n",
       "      <td>IOS разработчик</td>\n",
       "      <td>False</td>\n",
       "      <td>NaN</td>\n",
       "      <td>NaN</td>\n",
       "      <td>От 1 года до 3 лет</td>\n",
       "      <td>Удаленная работа</td>\n",
       "      <td>['iOS', 'Objective-C', 'Swift']</td>\n",
       "      <td>Второй по величине банк в стране, приложение...</td>\n",
       "    </tr>\n",
       "    <tr>\n",
       "      <th>610</th>\n",
       "      <td>44043629</td>\n",
       "      <td>GrowFood</td>\n",
       "      <td>IOS Developer (Swift)</td>\n",
       "      <td>False</td>\n",
       "      <td>NaN</td>\n",
       "      <td>NaN</td>\n",
       "      <td>От 1 года до 3 лет</td>\n",
       "      <td>Удаленная работа</td>\n",
       "      <td>['iOS', 'Swift']</td>\n",
       "      <td>Grow Food готовит и доставляет правильное и вк...</td>\n",
       "    </tr>\n",
       "  </tbody>\n",
       "</table>\n",
       "<p>611 rows × 10 columns</p>\n",
       "</div>"
      ],
      "text/plain": [
       "          Ids       Employer                                        Name  \\\n",
       "0    44691569        FaceOut                   IOS разработчик в стартап   \n",
       "1    44725803        FaceOut         Мобильный разработчик iOS & Android   \n",
       "2    44965540  Mail.ru Group                     IOS-разработчик (Почта)   \n",
       "3    45193826         Wheely  Senior iOS Developer, Chauffeur Experience   \n",
       "4    44128979          Авито                IOS разработчик (Юнит Speed)   \n",
       "..        ...            ...                                         ...   \n",
       "606  45381832        Туту.ру             IOS-разработчик в продукт Отели   \n",
       "607  45380613        Туту.ру            IOS-разработчик в команду выдачи   \n",
       "608  45312779          iHerb                        Senior iOS Developer   \n",
       "609  45297811         Luxoft                             IOS разработчик   \n",
       "610  44043629       GrowFood                       IOS Developer (Swift)   \n",
       "\n",
       "    Salary  From  To          Experience          Schedule  \\\n",
       "0    False   NaN NaN       От 3 до 6 лет  Удаленная работа   \n",
       "1    False   NaN NaN       От 3 до 6 лет  Удаленная работа   \n",
       "2    False   NaN NaN       От 3 до 6 лет       Полный день   \n",
       "3    False   NaN NaN       От 3 до 6 лет       Полный день   \n",
       "4    False   NaN NaN       От 3 до 6 лет       Полный день   \n",
       "..     ...   ...  ..                 ...               ...   \n",
       "606  False   NaN NaN  От 1 года до 3 лет       Полный день   \n",
       "607  False   NaN NaN  От 1 года до 3 лет       Полный день   \n",
       "608  False   NaN NaN       От 3 до 6 лет       Полный день   \n",
       "609  False   NaN NaN  От 1 года до 3 лет  Удаленная работа   \n",
       "610  False   NaN NaN  От 1 года до 3 лет  Удаленная работа   \n",
       "\n",
       "                                                  Keys  \\\n",
       "0    ['Разработка ПО', 'Scrum', 'Start-up project',...   \n",
       "1    ['Android', 'Разработка ПО', 'Android SDK', 'S...   \n",
       "2                                              ['iOS']   \n",
       "3             ['Swift', 'Reactive Swift', 'Cocoapods']   \n",
       "4             ['Mac Os', 'Swift', 'CI/CD', 'CI', 'UI']   \n",
       "..                                                 ...   \n",
       "606  ['Git', 'Управление проектами', 'Atlassian Jir...   \n",
       "607  ['Git', 'Rx', 'Atlassian Jira', 'Swift', 'Coco...   \n",
       "608  ['Objective-C', 'Swift', 'iOS', 'JSON API', 'R...   \n",
       "609                    ['iOS', 'Objective-C', 'Swift']   \n",
       "610                                   ['iOS', 'Swift']   \n",
       "\n",
       "                                           Description  \n",
       "0    Мы – опытная команда фаундеров из Кремниевой Д...  \n",
       "1    Мы – опытная команда фаундеров из Кремниевой Д...  \n",
       "2    Мобильная Почта стартовала в 2012 году и включ...  \n",
       "3    Wheely is a ride-hailing app recognized for it...  \n",
       "4    Мы бережём здоровье сотрудников, поэтому на вр...  \n",
       "..                                                 ...  \n",
       "606  Tutu.ru — онлайн-сервис для путешествий, котор...  \n",
       "607  Транспортная выдача Туту.ру — это весь слой, с...  \n",
       "608  Job Summary: The Sr. iOS Developer will work d...  \n",
       "609    Второй по величине банк в стране, приложение...  \n",
       "610  Grow Food готовит и доставляет правильное и вк...  \n",
       "\n",
       "[611 rows x 10 columns]"
      ]
     },
     "execution_count": 59,
     "metadata": {},
     "output_type": "execute_result"
    }
   ],
   "source": [
    "data_hh_list = glob.glob(\"./hh_data/*.csv\")\n",
    "df_bd = pd.DataFrame(columns=['Ids', 'Employer', 'Name', 'Salary', 'From', 'To', 'Experience',\n",
    "       'Schedule', 'Keys', 'Description'])\n",
    "for csv in data_hh_list:\n",
    "    df_bd = df_bd.append(pd.read_csv(csv))\n",
    "df_bd = df_bd.reset_index(drop=True)\n",
    "\n",
    "front = df_bd.loc[df_bd['Name'].str.contains(\"ios\", case=False)]\n",
    "\n",
    "front = front.reset_index(drop=True)\n",
    "front"
   ]
  },
  {
   "cell_type": "code",
   "execution_count": 60,
   "id": "5d9dc17e",
   "metadata": {},
   "outputs": [],
   "source": [
    "desc = list(front['Description'])"
   ]
  },
  {
   "cell_type": "code",
   "execution_count": 61,
   "id": "482497cd",
   "metadata": {},
   "outputs": [
    {
     "data": {
      "application/vnd.jupyter.widget-view+json": {
       "model_id": "d8d6bd6d341a4322936e368c2f019e57",
       "version_major": 2,
       "version_minor": 0
      },
      "text/plain": [
       "  0%|          | 0/611 [00:00<?, ?it/s]"
      ]
     },
     "metadata": {},
     "output_type": "display_data"
    }
   ],
   "source": [
    "r = process_map(clean_dataset, desc, max_workers=6)"
   ]
  },
  {
   "cell_type": "code",
   "execution_count": 62,
   "id": "8d782f82",
   "metadata": {},
   "outputs": [],
   "source": [
    "embeddings_vac = model.encode(r)"
   ]
  },
  {
   "cell_type": "code",
   "execution_count": 63,
   "id": "d387fd83",
   "metadata": {},
   "outputs": [],
   "source": [
    "front_embeding = embeddings_vac[608]"
   ]
  },
  {
   "cell_type": "code",
   "execution_count": 64,
   "id": "8fb3b5cf",
   "metadata": {},
   "outputs": [],
   "source": [
    "from scipy.spatial.distance import cosine, correlation, dice, minkowski, hamming"
   ]
  },
  {
   "cell_type": "code",
   "execution_count": 65,
   "id": "e73d9492",
   "metadata": {},
   "outputs": [],
   "source": [
    "rec_book = []\n",
    "for bk_index in range(len(embeddings_course)):\n",
    "    rec_book.append(cosine(front_embeding, embeddings_course[bk_index]))"
   ]
  },
  {
   "cell_type": "code",
   "execution_count": 66,
   "id": "5871171e",
   "metadata": {},
   "outputs": [
    {
     "name": "stdout",
     "output_type": "stream",
     "text": [
      "Искусство программирования, том 4А. Комбинаторные алгоритмы. Часть 1 | Кнут Дональд Эрвин\n",
      "Эффективное использование С++. 55 верных способов улучшить структуру и код ваших программ | Мейерс Скотт\n",
      "Как делать деньги, не выходя из дома. С пошаговым планом заработка 1000 в месяц\n",
      "Шаблоны C++. Справочник разработчика | Джосаттис Николаи М., Грегор Дуглас\n",
      "Служащие. Из жизни современной Германии | Кракауэр Зигфрид, Мичковский Олег И.\n",
      "Modern X86 Assembly Language Programming. Covers x86 64-bit, AVX, AVX2, and AVX-512\n",
      "Прогулки по Армении | Нет автора\n",
      "Practical C++ Design. From Programming to Architecture\n",
      "Квантовые вычисления. Прикладной подход\n",
      "Язык программирования C# 7 и платформы. NET и NET Core. 8-е изд\n"
     ]
    }
   ],
   "source": [
    "for rec in sorted(enumerate(rec_book), key=lambda x: x[1], reverse=True)[:10]:\n",
    "    print(dat['title'][rec[0]])"
   ]
  },
  {
   "cell_type": "code",
   "execution_count": null,
   "id": "82b3179d",
   "metadata": {},
   "outputs": [],
   "source": []
  }
 ],
 "metadata": {
  "kernelspec": {
   "display_name": "Python 3",
   "language": "python",
   "name": "python3"
  },
  "language_info": {
   "codemirror_mode": {
    "name": "ipython",
    "version": 3
   },
   "file_extension": ".py",
   "mimetype": "text/x-python",
   "name": "python",
   "nbconvert_exporter": "python",
   "pygments_lexer": "ipython3",
   "version": "3.7.10"
  }
 },
 "nbformat": 4,
 "nbformat_minor": 5
}
