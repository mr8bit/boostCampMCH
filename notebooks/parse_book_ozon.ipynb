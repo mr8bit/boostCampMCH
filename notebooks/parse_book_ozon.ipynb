{
 "cells": [
  {
   "cell_type": "code",
   "execution_count": 2,
   "id": "844728a2",
   "metadata": {},
   "outputs": [],
   "source": [
    "from selenium import webdriver\n",
    "from selenium.common.exceptions import TimeoutException\n",
    "from selenium.webdriver.support.ui import WebDriverWait\n",
    "from selenium.webdriver.support import expected_conditions as EC\n",
    "from selenium.webdriver.common.by import By"
   ]
  },
  {
   "cell_type": "code",
   "execution_count": 3,
   "id": "5b6186d7",
   "metadata": {},
   "outputs": [],
   "source": [
    "driver = webdriver.Firefox()"
   ]
  },
  {
   "cell_type": "code",
   "execution_count": 4,
   "id": "8a124fd6",
   "metadata": {},
   "outputs": [],
   "source": [
    "def get_images(images):\n",
    "    for image in images:\n",
    "        if title.text in image.get_attribute(\"alt\"):\n",
    "            return image.get_attribute(\"src\")            "
   ]
  },
  {
   "cell_type": "code",
   "execution_count": 5,
   "id": "36b86cf0",
   "metadata": {},
   "outputs": [],
   "source": [
    "import time\n",
    "def get_book_info(driver, url):\n",
    "    driver.get(url)\n",
    "    driver.execute_script(\"window.scrollTo(0, 6000)\")\n",
    "    time.sleep(5)\n",
    "    desc = driver.find_element_by_id('section-description')\n",
    "    title = driver.find_element_by_tag_name('h1') \n",
    "    img = \"\"\n",
    "    images = driver.find_elements_by_tag_name('img') \n",
    "    for image in images:\n",
    "        if title.text in image.get_attribute(\"alt\"):\n",
    "            img = image.get_attribute(\"src\")             \n",
    "    return  {\"title\":title.text, \"desc\":desc.text, \"img\": img}"
   ]
  },
  {
   "cell_type": "code",
   "execution_count": 6,
   "id": "aa757b6c",
   "metadata": {},
   "outputs": [],
   "source": [
    "from tqdm import tqdm"
   ]
  },
  {
   "cell_type": "code",
   "execution_count": 7,
   "id": "3ac2b4c9",
   "metadata": {},
   "outputs": [],
   "source": [
    "books_desc = []"
   ]
  },
  {
   "cell_type": "code",
   "execution_count": 8,
   "id": "91857098",
   "metadata": {},
   "outputs": [
    {
     "name": "stderr",
     "output_type": "stream",
     "text": [
      "100%|██████████| 46/46 [06:21<00:00,  8.29s/it]\n",
      "100%|██████████| 56/56 [06:12<00:00,  6.65s/it]\n",
      "100%|██████████| 4/4 [00:26<00:00,  6.58s/it]\n",
      "100%|██████████| 46/46 [05:16<00:00,  6.87s/it]\n",
      "100%|██████████| 59/59 [07:37<00:00,  7.76s/it]\n",
      "100%|██████████| 63/63 [07:02<00:00,  6.71s/it]\n",
      "100%|██████████| 4/4 [00:26<00:00,  6.71s/it]\n",
      "100%|██████████| 48/48 [05:26<00:00,  6.79s/it]\n"
     ]
    }
   ],
   "source": [
    "for page in range(2, 10):\n",
    "    driver.get(f\"https://www.ozon.ru/category/yazyki-programmirovaniya-33705/?page={page}\")\n",
    "    time.sleep(7)\n",
    "    content = driver.find_elements_by_tag_name('a')\n",
    "    book = []\n",
    "    for ct in content:\n",
    "        if ct.get_attribute(\"href\"):\n",
    "            if \"product\" in ct.get_attribute(\"href\").split('/'):\n",
    "                book.append(ct.get_attribute(\"href\"))\n",
    "    sorted_book = list(set(book))\n",
    "    for book  in tqdm(sorted_book):\n",
    "        try:\n",
    "            res = get_book_info(driver, book)\n",
    "            books_desc.append(res)\n",
    "        except:\n",
    "            pass"
   ]
  },
  {
   "cell_type": "code",
   "execution_count": 14,
   "id": "77418dda",
   "metadata": {},
   "outputs": [
    {
     "name": "stderr",
     "output_type": "stream",
     "text": [
      "100%|██████████| 52/52 [05:40<00:00,  6.55s/it]\n"
     ]
    }
   ],
   "source": []
  },
  {
   "cell_type": "code",
   "execution_count": 9,
   "id": "83dc21da",
   "metadata": {},
   "outputs": [
    {
     "data": {
      "text/plain": [
       "322"
      ]
     },
     "execution_count": 9,
     "metadata": {},
     "output_type": "execute_result"
    }
   ],
   "source": [
    "len(books_desc)"
   ]
  },
  {
   "cell_type": "code",
   "execution_count": 12,
   "id": "a63f8669",
   "metadata": {},
   "outputs": [],
   "source": [
    "import pandas as pd"
   ]
  },
  {
   "cell_type": "code",
   "execution_count": 13,
   "id": "025ddc76",
   "metadata": {},
   "outputs": [],
   "source": [
    "df = pd.DataFrame.from_dict(books_desc)"
   ]
  },
  {
   "cell_type": "code",
   "execution_count": 14,
   "id": "cc492256",
   "metadata": {},
   "outputs": [],
   "source": [
    "df.to_csv(\"./new_book_1.csv\")"
   ]
  },
  {
   "cell_type": "code",
   "execution_count": null,
   "id": "16eeb45a",
   "metadata": {},
   "outputs": [],
   "source": []
  }
 ],
 "metadata": {
  "kernelspec": {
   "display_name": "Python 3",
   "language": "python",
   "name": "python3"
  },
  "language_info": {
   "codemirror_mode": {
    "name": "ipython",
    "version": 3
   },
   "file_extension": ".py",
   "mimetype": "text/x-python",
   "name": "python",
   "nbconvert_exporter": "python",
   "pygments_lexer": "ipython3",
   "version": "3.7.10"
  }
 },
 "nbformat": 4,
 "nbformat_minor": 5
}
